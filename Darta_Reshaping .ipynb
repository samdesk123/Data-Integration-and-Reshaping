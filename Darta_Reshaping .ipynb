{
 "cells": [
  {
   "cell_type": "markdown",
   "metadata": {},
   "source": [
    "Environment: Python 3\n",
    "Jupyter notebook Libraries used:\n",
    "\n",
    "- pandas for dataframe manipulation\n",
    "- numpy for scientific computations\n",
    "- math to use sin, cos, tan, randian functions\n",
    "- html.parser for html data extraction\n",
    "- xml.etree for xml data extraction\n",
    "- datetime to extract hour, minutes and seconds from time\n",
    "- pandas summary for getting data summary \n",
    "- \n",
    "\n",
    "\n",
    "- matplotlib and seaborn for visualisations\n",
    "- image to include screenshots in notebook\n",
    "\n",
    "### This report contains following sections -\n",
    "\n",
    "#### Task 1\n",
    "\n",
    "1. Importing the data and setting the default values.\n",
    "2. Calculating the distances and id for nearest shopping center, hospital, supermarket and train station using harvesine distance.\n",
    "3. Travel time to CBD\n",
    "4. Tranfer Flag\n",
    "5. Suburb imputation for all properties.\n",
    "\n",
    "## Task 1: Data Integration (60%)\n",
    "In this task, you are required to integrate the input datasets (i.e., 7 datasets including ​hospitals​, supermarkets​, ​shopping centers​, ​real estate files (one XML and one Json), Vic_suburb_boundary​, and ​GTFS_Melbourne_Train_Information files) into one dataset with the following schema."
   ]
  },
  {
   "cell_type": "code",
   "execution_count": 838,
   "metadata": {},
   "outputs": [],
   "source": [
    "from html.parser import HTMLParser\n",
    "import codecs\n",
    "import pandas as pd\n",
    "import xml.etree.cElementTree as et\n",
    "from lxml import etree\n",
    "import re\n",
    "import numpy as np\n",
    "# Warnings disabled\n",
    "pd.options.mode.chained_assignment = None\n",
    "\n",
    "import geopandas\n",
    "from shapely.geometry import Point\n",
    "from shapely.geometry.polygon import Polygon\n",
    "import math\n",
    "from urllib.request import urlopen\n",
    "from bs4 import BeautifulSoup\n",
    "from matplotlib import pyplot as plt\n",
    "from sklearn import preprocessing"
   ]
  },
  {
   "cell_type": "markdown",
   "metadata": {},
   "source": [
    "### Loading Shoping center HTML data\n",
    "\n",
    "- This html data will be loaded into pandas data frame\n",
    "- It have three columns corrosponding to:\n",
    "    - shopping center id\n",
    "    - shopping latitude\n",
    "    - shopping longitude"
   ]
  },
  {
   "cell_type": "code",
   "execution_count": 839,
   "metadata": {},
   "outputs": [],
   "source": [
    "df_temp = pd.read_html('/Users/shubhamsingh/Documents/30145945/shopingcenters.html')\n",
    "shoping_df = df_temp[0]"
   ]
  },
  {
   "cell_type": "code",
   "execution_count": 840,
   "metadata": {
    "scrolled": true
   },
   "outputs": [
    {
     "data": {
      "text/html": [
       "<div>\n",
       "<style scoped>\n",
       "    .dataframe tbody tr th:only-of-type {\n",
       "        vertical-align: middle;\n",
       "    }\n",
       "\n",
       "    .dataframe tbody tr th {\n",
       "        vertical-align: top;\n",
       "    }\n",
       "\n",
       "    .dataframe thead th {\n",
       "        text-align: right;\n",
       "    }\n",
       "</style>\n",
       "<table border=\"1\" class=\"dataframe\">\n",
       "  <thead>\n",
       "    <tr style=\"text-align: right;\">\n",
       "      <th></th>\n",
       "      <th>Unnamed: 0</th>\n",
       "      <th>sc_id</th>\n",
       "      <th>lat</th>\n",
       "      <th>lng</th>\n",
       "    </tr>\n",
       "  </thead>\n",
       "  <tbody>\n",
       "    <tr>\n",
       "      <th>0</th>\n",
       "      <td>0</td>\n",
       "      <td>SC_001</td>\n",
       "      <td>-37.767915</td>\n",
       "      <td>145.041790</td>\n",
       "    </tr>\n",
       "    <tr>\n",
       "      <th>1</th>\n",
       "      <td>1</td>\n",
       "      <td>SC_002</td>\n",
       "      <td>-37.819375</td>\n",
       "      <td>145.171472</td>\n",
       "    </tr>\n",
       "    <tr>\n",
       "      <th>2</th>\n",
       "      <td>2</td>\n",
       "      <td>SC_003</td>\n",
       "      <td>-37.971131</td>\n",
       "      <td>145.089065</td>\n",
       "    </tr>\n",
       "    <tr>\n",
       "      <th>3</th>\n",
       "      <td>3</td>\n",
       "      <td>SC_004</td>\n",
       "      <td>-35.280406</td>\n",
       "      <td>149.132550</td>\n",
       "    </tr>\n",
       "    <tr>\n",
       "      <th>4</th>\n",
       "      <td>4</td>\n",
       "      <td>SC_005</td>\n",
       "      <td>-37.574572</td>\n",
       "      <td>144.920451</td>\n",
       "    </tr>\n",
       "  </tbody>\n",
       "</table>\n",
       "</div>"
      ],
      "text/plain": [
       "   Unnamed: 0   sc_id        lat         lng\n",
       "0           0  SC_001 -37.767915  145.041790\n",
       "1           1  SC_002 -37.819375  145.171472\n",
       "2           2  SC_003 -37.971131  145.089065\n",
       "3           3  SC_004 -35.280406  149.132550\n",
       "4           4  SC_005 -37.574572  144.920451"
      ]
     },
     "execution_count": 840,
     "metadata": {},
     "output_type": "execute_result"
    }
   ],
   "source": [
    "shoping_df.head()"
   ]
  },
  {
   "cell_type": "markdown",
   "metadata": {},
   "source": [
    "### Loading GTFS data\n",
    "\n",
    "- GTFS stands for General Transit Feed Specification. \n",
    "- GTFS feeds are well-known and useful datasets that describe transit data of public transport agencies. \n",
    "- GTFS ”feeds” allow public transit agencies to publish their transit data and developers to write applications that consume that data in an interoperable way."
   ]
  },
  {
   "cell_type": "code",
   "execution_count": 841,
   "metadata": {},
   "outputs": [],
   "source": [
    "df_stops = pd.read_csv('/Users/shubhamsingh/Documents/1. GTFS - Melbourne Train Information - From PTV (9 Oct 2015)/GTFS - Melbourne Train Information/stops.txt')\n",
    "df_stop_times = pd.read_csv('/Users/shubhamsingh/Documents/1. GTFS - Melbourne Train Information - From PTV (9 Oct 2015)/GTFS - Melbourne Train Information/stop_times.txt')\n",
    "df_trips = pd.read_csv('/Users/shubhamsingh/Documents/1. GTFS - Melbourne Train Information - From PTV (9 Oct 2015)/GTFS - Melbourne Train Information/trips.txt')\n",
    "df_shapes = pd.read_csv('/Users/shubhamsingh/Documents/1. GTFS - Melbourne Train Information - From PTV (9 Oct 2015)/GTFS - Melbourne Train Information/shapes.txt')\n",
    "df_routes = pd.read_csv('/Users/shubhamsingh/Documents/1. GTFS - Melbourne Train Information - From PTV (9 Oct 2015)/GTFS - Melbourne Train Information/routes.txt')\n",
    "df_calendar_dt = pd.read_csv('/Users/shubhamsingh/Documents/1. GTFS - Melbourne Train Information - From PTV (9 Oct 2015)/GTFS - Melbourne Train Information/calendar_dates.txt')\n",
    "df_calendar = pd.read_csv('/Users/shubhamsingh/Documents/1. GTFS - Melbourne Train Information - From PTV (9 Oct 2015)/GTFS - Melbourne Train Information/calendar.txt')\n",
    "df_agency = pd.read_csv('/Users/shubhamsingh/Documents/1. GTFS - Melbourne Train Information - From PTV (9 Oct 2015)/GTFS - Melbourne Train Information/agency.txt')"
   ]
  },
  {
   "cell_type": "markdown",
   "metadata": {},
   "source": [
    "### Loading Real state json data\n",
    "\n",
    "- the given dataset is in json format, will convert this data into pandas dataframe.\n",
    "- Data has infromation about the property including:\n",
    "    - property loaction\n",
    "    - property address\n",
    "    - price of the property \n",
    "    - year of build and so on."
   ]
  },
  {
   "cell_type": "code",
   "execution_count": 842,
   "metadata": {},
   "outputs": [],
   "source": [
    "real_state_json = pd.read_json('/Users/shubhamsingh/Documents/30145945/real_state.json')"
   ]
  },
  {
   "cell_type": "code",
   "execution_count": 843,
   "metadata": {},
   "outputs": [
    {
     "name": "stdout",
     "output_type": "stream",
     "text": [
      "<class 'pandas.core.frame.DataFrame'>\n",
      "RangeIndex: 1010 entries, 0 to 1009\n",
      "Data columns (total 10 columns):\n",
      " #   Column         Non-Null Count  Dtype  \n",
      "---  ------         --------------  -----  \n",
      " 0   property_id    1010 non-null   int64  \n",
      " 1   lat            1010 non-null   float64\n",
      " 2   lng            1010 non-null   float64\n",
      " 3   addr_street    1010 non-null   object \n",
      " 4   price          1010 non-null   int64  \n",
      " 5   property_type  1010 non-null   object \n",
      " 6   year           1010 non-null   int64  \n",
      " 7   bedrooms       1010 non-null   int64  \n",
      " 8   bathrooms      1010 non-null   int64  \n",
      " 9   parking_space  1010 non-null   int64  \n",
      "dtypes: float64(2), int64(6), object(2)\n",
      "memory usage: 79.0+ KB\n"
     ]
    }
   ],
   "source": [
    "real_state_json.info()"
   ]
  },
  {
   "cell_type": "markdown",
   "metadata": {},
   "source": [
    "### Loading hospital pdf data\n",
    "\n",
    "To read the pdf data into pandas dataframe we need use `tabula`. to use this library we need to install by using`!pip install tabula-py`.\n",
    "- pdf data is in table formate which have information like:\n",
    "    - hopital id (unique)\n",
    "    - hopital location(lat, long)\n",
    "    - hopital name"
   ]
  },
  {
   "cell_type": "code",
   "execution_count": 844,
   "metadata": {},
   "outputs": [
    {
     "name": "stdout",
     "output_type": "stream",
     "text": [
      "Requirement already satisfied: tabula-py in /Users/shubhamsingh/opt/anaconda3/lib/python3.8/site-packages (2.2.0)\n",
      "Requirement already satisfied: pandas>=0.25.3 in /Users/shubhamsingh/opt/anaconda3/lib/python3.8/site-packages (from tabula-py) (1.0.5)\n",
      "Requirement already satisfied: distro in /Users/shubhamsingh/opt/anaconda3/lib/python3.8/site-packages (from tabula-py) (1.5.0)\n",
      "Requirement already satisfied: numpy in /Users/shubhamsingh/opt/anaconda3/lib/python3.8/site-packages (from tabula-py) (1.18.5)\n",
      "Requirement already satisfied: pytz>=2017.2 in /Users/shubhamsingh/opt/anaconda3/lib/python3.8/site-packages (from pandas>=0.25.3->tabula-py) (2020.1)\n",
      "Requirement already satisfied: python-dateutil>=2.6.1 in /Users/shubhamsingh/opt/anaconda3/lib/python3.8/site-packages (from pandas>=0.25.3->tabula-py) (2.8.1)\n",
      "Requirement already satisfied: six>=1.5 in /Users/shubhamsingh/opt/anaconda3/lib/python3.8/site-packages (from python-dateutil>=2.6.1->pandas>=0.25.3->tabula-py) (1.15.0)\n"
     ]
    }
   ],
   "source": [
    "!pip install tabula-py"
   ]
  },
  {
   "cell_type": "code",
   "execution_count": 845,
   "metadata": {},
   "outputs": [],
   "source": [
    "import tabula\n",
    " \n",
    "file = \"/Users/shubhamsingh/Documents/hospitals.pdf\"\n",
    "table = tabula.read_pdf(file, pages = \"all\", multiple_tables = True)"
   ]
  },
  {
   "cell_type": "code",
   "execution_count": 846,
   "metadata": {},
   "outputs": [
    {
     "data": {
      "text/plain": [
       "(199, 4)"
      ]
     },
     "execution_count": 846,
     "metadata": {},
     "output_type": "execute_result"
    }
   ],
   "source": [
    "data = pd.concat(table)\n",
    "# df_hospitals.drop(['Unnamed: 0','Unnamed: 1','Unnamed: 2','Unnamed: 3','Unnamed: 4','Unnamed: 5'], axis = 1, inplace = True)\n",
    "df_hospitals = data[['id','lat','lng','name']] # taking only required columns \n",
    "df_hospitals = df_hospitals.dropna() # dropping row which has nan values\n",
    "df_hospitals.shape"
   ]
  },
  {
   "cell_type": "code",
   "execution_count": 847,
   "metadata": {},
   "outputs": [
    {
     "data": {
      "text/plain": [
       "199"
      ]
     },
     "execution_count": 847,
     "metadata": {},
     "output_type": "execute_result"
    }
   ],
   "source": [
    "len(df_hospitals.id.unique())"
   ]
  },
  {
   "cell_type": "markdown",
   "metadata": {},
   "source": [
    "### Reading real state xml data\n",
    "\n",
    "- This real dataset is in xml format. but the format of the xml is not well defined. \n",
    "- Xml file contains some unwanted string which will create problem when we try to convert xml file to pandas dataframe.\n",
    "- To get desired xml format string will convert the containt of the file into string.\n",
    "- After converting into string will use regex for string extraction using `(?=<root>)(.*)(?=')`.\n",
    "- This reges will get all the string from `<root>` to `</root>`.\n",
    "- After that will use `XMLParser` to parse the xml data."
   ]
  },
  {
   "cell_type": "code",
   "execution_count": 848,
   "metadata": {},
   "outputs": [],
   "source": [
    "f = open('/Users/shubhamsingh/Documents/30145945/real_state.xml', \"r\")\n",
    "file = f.read()"
   ]
  },
  {
   "cell_type": "code",
   "execution_count": 849,
   "metadata": {},
   "outputs": [],
   "source": [
    "reg = re.compile(r\"(?=<root>)(.*)(?=')\")\n",
    "xml_file = reg.findall(file)\n",
    "\n",
    "parser = etree.XMLParser(recover=True)\n",
    "xml_tree = etree.fromstring(xml_file[0], parser=parser)"
   ]
  },
  {
   "cell_type": "markdown",
   "metadata": {},
   "source": [
    "- `xml_tree` contains all the tags together. by using block of code will get all the distinct tags and there values.\n",
    "- It will also give the columns names and there order which will helps us creating dataframe."
   ]
  },
  {
   "cell_type": "code",
   "execution_count": 850,
   "metadata": {},
   "outputs": [
    {
     "name": "stdout",
     "output_type": "stream",
     "text": [
      "<Element property_id at 0x7f8174ef9180>\n",
      "<Element lat at 0x7f8174ef9040>\n",
      "<Element lng at 0x7f816bda2740>\n",
      "<Element addr_street at 0x7f8174f07a80>\n",
      "<Element price at 0x7f8174ef9180>\n",
      "<Element property_type at 0x7f8174ef9040>\n",
      "<Element year at 0x7f816bda2740>\n",
      "<Element bedrooms at 0x7f8174f07a80>\n",
      "<Element bathrooms at 0x7f8174ef9180>\n",
      "<Element parking_space at 0x7f8174ef9040>\n",
      "Total value in list is: 10030\n"
     ]
    }
   ],
   "source": [
    "list_of_all = []\n",
    "for patient_element in xml_tree:\n",
    "    print(patient_element)\n",
    "    for j in patient_element:\n",
    "        list_of_all.append(j.text)\n",
    "\n",
    "print('Total value in list is:', len(list_of_all))"
   ]
  },
  {
   "cell_type": "markdown",
   "metadata": {},
   "source": [
    "- As we can see that total number of rows that list as is 10030 which is datarows and it aloso gives us order of the columns.\n",
    "- We have total of 10 columns, that means each column has `10030/10 = 1003` data.\n",
    "- We will get data for each row by using below block of code."
   ]
  },
  {
   "cell_type": "code",
   "execution_count": 851,
   "metadata": {},
   "outputs": [],
   "source": [
    "property_id = list_of_all[0:1003]\n",
    "lat = list_of_all[1003:2006]\n",
    "lng = list_of_all[2006:3009]\n",
    "addr_street = list_of_all[3009:4012]\n",
    "price = list_of_all[4012:5015]\n",
    "property_type = list_of_all[5015:6018]\n",
    "year = list_of_all[6018:7021]\n",
    "bedrooms = list_of_all[7021:8024]\n",
    "bathrooms = list_of_all[8024:9027]\n",
    "parking_space = list_of_all[9027:10030]"
   ]
  },
  {
   "cell_type": "code",
   "execution_count": 852,
   "metadata": {},
   "outputs": [
    {
     "data": {
      "text/html": [
       "<div>\n",
       "<style scoped>\n",
       "    .dataframe tbody tr th:only-of-type {\n",
       "        vertical-align: middle;\n",
       "    }\n",
       "\n",
       "    .dataframe tbody tr th {\n",
       "        vertical-align: top;\n",
       "    }\n",
       "\n",
       "    .dataframe thead th {\n",
       "        text-align: right;\n",
       "    }\n",
       "</style>\n",
       "<table border=\"1\" class=\"dataframe\">\n",
       "  <thead>\n",
       "    <tr style=\"text-align: right;\">\n",
       "      <th></th>\n",
       "      <th>property_id</th>\n",
       "      <th>lat</th>\n",
       "      <th>lng</th>\n",
       "      <th>addr_street</th>\n",
       "      <th>price</th>\n",
       "      <th>property_type</th>\n",
       "      <th>year</th>\n",
       "      <th>bedrooms</th>\n",
       "      <th>bathrooms</th>\n",
       "      <th>parking_space</th>\n",
       "    </tr>\n",
       "  </thead>\n",
       "  <tbody>\n",
       "    <tr>\n",
       "      <th>0</th>\n",
       "      <td>68741</td>\n",
       "      <td>-37.856149</td>\n",
       "      <td>145.037211</td>\n",
       "      <td>11 Eva Street</td>\n",
       "      <td>15720000</td>\n",
       "      <td>house</td>\n",
       "      <td>2014</td>\n",
       "      <td>3</td>\n",
       "      <td>1</td>\n",
       "      <td>0</td>\n",
       "    </tr>\n",
       "    <tr>\n",
       "      <th>1</th>\n",
       "      <td>19266</td>\n",
       "      <td>-37.669824</td>\n",
       "      <td>144.933401</td>\n",
       "      <td>9 Morwell Crescent</td>\n",
       "      <td>2224000</td>\n",
       "      <td>house</td>\n",
       "      <td>2012</td>\n",
       "      <td>3</td>\n",
       "      <td>1</td>\n",
       "      <td>1</td>\n",
       "    </tr>\n",
       "    <tr>\n",
       "      <th>2</th>\n",
       "      <td>3063</td>\n",
       "      <td>-37.815886799999994</td>\n",
       "      <td>144.8882819</td>\n",
       "      <td>20 Canterbury Street</td>\n",
       "      <td>15540000</td>\n",
       "      <td>house</td>\n",
       "      <td>2012</td>\n",
       "      <td>3</td>\n",
       "      <td>2</td>\n",
       "      <td>2</td>\n",
       "    </tr>\n",
       "    <tr>\n",
       "      <th>3</th>\n",
       "      <td>1685</td>\n",
       "      <td>-37.808658</td>\n",
       "      <td>144.88399099999998</td>\n",
       "      <td>112 Williamstown Road</td>\n",
       "      <td>9600000</td>\n",
       "      <td>house</td>\n",
       "      <td>2015</td>\n",
       "      <td>3</td>\n",
       "      <td>1</td>\n",
       "      <td>2</td>\n",
       "    </tr>\n",
       "    <tr>\n",
       "      <th>4</th>\n",
       "      <td>45135</td>\n",
       "      <td>-37.707832</td>\n",
       "      <td>145.088287</td>\n",
       "      <td>468 Greensborough Road</td>\n",
       "      <td>5715000</td>\n",
       "      <td>house</td>\n",
       "      <td>2015</td>\n",
       "      <td>5</td>\n",
       "      <td>3</td>\n",
       "      <td>0</td>\n",
       "    </tr>\n",
       "  </tbody>\n",
       "</table>\n",
       "</div>"
      ],
      "text/plain": [
       "  property_id                  lat                 lng  \\\n",
       "0       68741           -37.856149          145.037211   \n",
       "1       19266           -37.669824          144.933401   \n",
       "2        3063  -37.815886799999994         144.8882819   \n",
       "3        1685           -37.808658  144.88399099999998   \n",
       "4       45135           -37.707832          145.088287   \n",
       "\n",
       "              addr_street     price property_type  year bedrooms bathrooms  \\\n",
       "0           11 Eva Street  15720000         house  2014        3         1   \n",
       "1      9 Morwell Crescent   2224000         house  2012        3         1   \n",
       "2    20 Canterbury Street  15540000         house  2012        3         2   \n",
       "3   112 Williamstown Road   9600000         house  2015        3         1   \n",
       "4  468 Greensborough Road   5715000         house  2015        5         3   \n",
       "\n",
       "  parking_space  \n",
       "0             0  \n",
       "1             1  \n",
       "2             2  \n",
       "3             2  \n",
       "4             0  "
      ]
     },
     "execution_count": 852,
     "metadata": {},
     "output_type": "execute_result"
    }
   ],
   "source": [
    "df_real_xml = pd.DataFrame(\n",
    "    {'property_id': property_id,\n",
    "     'lat': lat,\n",
    "     'lng': lng,\n",
    "     'addr_street': addr_street,\n",
    "     'price': price,\n",
    "     'property_type': property_type,\n",
    "     'year': year,\n",
    "     'bedrooms': bedrooms,\n",
    "     'bathrooms': bathrooms,\n",
    "     'parking_space' : parking_space\n",
    "    })\n",
    "df_real_xml.head()"
   ]
  },
  {
   "cell_type": "code",
   "execution_count": 853,
   "metadata": {},
   "outputs": [],
   "source": [
    "# changing the data types for correct output.\n",
    "df_real_xml = df_real_xml.astype({\"property_id\": np.int64, \"price\": np.int64, \n",
    "                \"year\": np.int64, \"bedrooms\": np.int64, \"parking_space\": np.int64, \n",
    "                \"bathrooms\" : np.int64, \"lat\":np.float64 ,\"lng\":np.float64})\n"
   ]
  },
  {
   "cell_type": "code",
   "execution_count": 854,
   "metadata": {},
   "outputs": [
    {
     "data": {
      "text/plain": [
       "property_id      0\n",
       "lat              0\n",
       "lng              0\n",
       "addr_street      0\n",
       "price            0\n",
       "property_type    0\n",
       "year             0\n",
       "bedrooms         0\n",
       "bathrooms        0\n",
       "parking_space    0\n",
       "dtype: int64"
      ]
     },
     "execution_count": 854,
     "metadata": {},
     "output_type": "execute_result"
    }
   ],
   "source": [
    "df_real_xml.isnull().sum()"
   ]
  },
  {
   "cell_type": "code",
   "execution_count": 855,
   "metadata": {},
   "outputs": [
    {
     "data": {
      "text/html": [
       "<div>\n",
       "<style scoped>\n",
       "    .dataframe tbody tr th:only-of-type {\n",
       "        vertical-align: middle;\n",
       "    }\n",
       "\n",
       "    .dataframe tbody tr th {\n",
       "        vertical-align: top;\n",
       "    }\n",
       "\n",
       "    .dataframe thead th {\n",
       "        text-align: right;\n",
       "    }\n",
       "</style>\n",
       "<table border=\"1\" class=\"dataframe\">\n",
       "  <thead>\n",
       "    <tr style=\"text-align: right;\">\n",
       "      <th></th>\n",
       "      <th>property_id</th>\n",
       "      <th>lat</th>\n",
       "      <th>lng</th>\n",
       "      <th>addr_street</th>\n",
       "      <th>price</th>\n",
       "      <th>property_type</th>\n",
       "      <th>year</th>\n",
       "      <th>bedrooms</th>\n",
       "      <th>bathrooms</th>\n",
       "      <th>parking_space</th>\n",
       "    </tr>\n",
       "  </thead>\n",
       "  <tbody>\n",
       "    <tr>\n",
       "      <th>0</th>\n",
       "      <td>68741</td>\n",
       "      <td>-37.856149</td>\n",
       "      <td>145.037211</td>\n",
       "      <td>11 Eva Street</td>\n",
       "      <td>15720000</td>\n",
       "      <td>house</td>\n",
       "      <td>2014</td>\n",
       "      <td>3</td>\n",
       "      <td>1</td>\n",
       "      <td>0</td>\n",
       "    </tr>\n",
       "    <tr>\n",
       "      <th>1</th>\n",
       "      <td>19266</td>\n",
       "      <td>-37.669824</td>\n",
       "      <td>144.933401</td>\n",
       "      <td>9 Morwell Crescent</td>\n",
       "      <td>2224000</td>\n",
       "      <td>house</td>\n",
       "      <td>2012</td>\n",
       "      <td>3</td>\n",
       "      <td>1</td>\n",
       "      <td>1</td>\n",
       "    </tr>\n",
       "    <tr>\n",
       "      <th>2</th>\n",
       "      <td>3063</td>\n",
       "      <td>-37.815887</td>\n",
       "      <td>144.888282</td>\n",
       "      <td>20 Canterbury Street</td>\n",
       "      <td>15540000</td>\n",
       "      <td>house</td>\n",
       "      <td>2012</td>\n",
       "      <td>3</td>\n",
       "      <td>2</td>\n",
       "      <td>2</td>\n",
       "    </tr>\n",
       "    <tr>\n",
       "      <th>3</th>\n",
       "      <td>1685</td>\n",
       "      <td>-37.808658</td>\n",
       "      <td>144.883991</td>\n",
       "      <td>112 Williamstown Road</td>\n",
       "      <td>9600000</td>\n",
       "      <td>house</td>\n",
       "      <td>2015</td>\n",
       "      <td>3</td>\n",
       "      <td>1</td>\n",
       "      <td>2</td>\n",
       "    </tr>\n",
       "    <tr>\n",
       "      <th>4</th>\n",
       "      <td>45135</td>\n",
       "      <td>-37.707832</td>\n",
       "      <td>145.088287</td>\n",
       "      <td>468 Greensborough Road</td>\n",
       "      <td>5715000</td>\n",
       "      <td>house</td>\n",
       "      <td>2015</td>\n",
       "      <td>5</td>\n",
       "      <td>3</td>\n",
       "      <td>0</td>\n",
       "    </tr>\n",
       "  </tbody>\n",
       "</table>\n",
       "</div>"
      ],
      "text/plain": [
       "   property_id        lat         lng             addr_street     price  \\\n",
       "0        68741 -37.856149  145.037211           11 Eva Street  15720000   \n",
       "1        19266 -37.669824  144.933401      9 Morwell Crescent   2224000   \n",
       "2         3063 -37.815887  144.888282    20 Canterbury Street  15540000   \n",
       "3         1685 -37.808658  144.883991   112 Williamstown Road   9600000   \n",
       "4        45135 -37.707832  145.088287  468 Greensborough Road   5715000   \n",
       "\n",
       "  property_type  year  bedrooms  bathrooms  parking_space  \n",
       "0         house  2014         3          1              0  \n",
       "1         house  2012         3          1              1  \n",
       "2         house  2012         3          2              2  \n",
       "3         house  2015         3          1              2  \n",
       "4         house  2015         5          3              0  "
      ]
     },
     "execution_count": 855,
     "metadata": {},
     "output_type": "execute_result"
    }
   ],
   "source": [
    "# combinh two read state data\n",
    "df_real = pd.concat([df_real_xml, real_state_json])\n",
    "\n",
    "# dropping duplicated row base on propertu id as it is unique.\n",
    "df_real.drop_duplicates(subset='property_id', keep='first', inplace = True)\n",
    "\n",
    "df_real.reset_index(inplace=True)\n",
    "\n",
    "# dropping index\n",
    "df_real = df_real.drop('index', axis=1)\n",
    "df_real.head()"
   ]
  },
  {
   "cell_type": "markdown",
   "metadata": {},
   "source": [
    "### Loading supermarket xlsx data\n",
    "\n",
    "- the given dataset is in xlsx format, will convert this data into pandas dataframe.\n",
    "- Data has infromation about the supermarket including:\n",
    "    - supermarket id\n",
    "    - supermarket loaction\n",
    "    - supermarket type"
   ]
  },
  {
   "cell_type": "code",
   "execution_count": 856,
   "metadata": {},
   "outputs": [],
   "source": [
    "df_supermarkets = pd.read_excel('/Users/shubhamsingh/Documents/30145945/supermarkets.xlsx')"
   ]
  },
  {
   "cell_type": "code",
   "execution_count": 857,
   "metadata": {
    "scrolled": true
   },
   "outputs": [
    {
     "data": {
      "text/html": [
       "<div>\n",
       "<style scoped>\n",
       "    .dataframe tbody tr th:only-of-type {\n",
       "        vertical-align: middle;\n",
       "    }\n",
       "\n",
       "    .dataframe tbody tr th {\n",
       "        vertical-align: top;\n",
       "    }\n",
       "\n",
       "    .dataframe thead th {\n",
       "        text-align: right;\n",
       "    }\n",
       "</style>\n",
       "<table border=\"1\" class=\"dataframe\">\n",
       "  <thead>\n",
       "    <tr style=\"text-align: right;\">\n",
       "      <th></th>\n",
       "      <th>Unnamed: 0</th>\n",
       "      <th>id</th>\n",
       "      <th>lat</th>\n",
       "      <th>lng</th>\n",
       "      <th>type</th>\n",
       "    </tr>\n",
       "  </thead>\n",
       "  <tbody>\n",
       "    <tr>\n",
       "      <th>0</th>\n",
       "      <td>0</td>\n",
       "      <td>S_001</td>\n",
       "      <td>-37.883978</td>\n",
       "      <td>144.735287</td>\n",
       "      <td>Woolworths</td>\n",
       "    </tr>\n",
       "    <tr>\n",
       "      <th>1</th>\n",
       "      <td>1</td>\n",
       "      <td>S_002</td>\n",
       "      <td>-41.161591</td>\n",
       "      <td>147.514797</td>\n",
       "      <td>Woolworths</td>\n",
       "    </tr>\n",
       "    <tr>\n",
       "      <th>2</th>\n",
       "      <td>2</td>\n",
       "      <td>S_003</td>\n",
       "      <td>-37.984078</td>\n",
       "      <td>145.077167</td>\n",
       "      <td>Woolworths</td>\n",
       "    </tr>\n",
       "    <tr>\n",
       "      <th>3</th>\n",
       "      <td>3</td>\n",
       "      <td>S_004</td>\n",
       "      <td>-37.707023</td>\n",
       "      <td>144.938740</td>\n",
       "      <td>Woolworths</td>\n",
       "    </tr>\n",
       "    <tr>\n",
       "      <th>4</th>\n",
       "      <td>4</td>\n",
       "      <td>S_005</td>\n",
       "      <td>-37.597670</td>\n",
       "      <td>144.938413</td>\n",
       "      <td>Woolworths</td>\n",
       "    </tr>\n",
       "  </tbody>\n",
       "</table>\n",
       "</div>"
      ],
      "text/plain": [
       "   Unnamed: 0     id        lat         lng        type\n",
       "0           0  S_001 -37.883978  144.735287  Woolworths\n",
       "1           1  S_002 -41.161591  147.514797  Woolworths\n",
       "2           2  S_003 -37.984078  145.077167  Woolworths\n",
       "3           3  S_004 -37.707023  144.938740  Woolworths\n",
       "4           4  S_005 -37.597670  144.938413  Woolworths"
      ]
     },
     "execution_count": 857,
     "metadata": {},
     "output_type": "execute_result"
    }
   ],
   "source": [
    "df_supermarkets.head()"
   ]
  },
  {
   "cell_type": "markdown",
   "metadata": {},
   "source": [
    "### Finding property Suburbs\n",
    "\n",
    "- to find the suburb of each property, we have vic_suburb_boundary file given to us. \n",
    "- This file contains shapes files, to read this files will use geopandas. \n",
    "- We then get a datatframe which we named geo_dataset. In this dataframe, two columns are important to us- geometry and VIC_LOCA_2"
   ]
  },
  {
   "cell_type": "code",
   "execution_count": 858,
   "metadata": {},
   "outputs": [
    {
     "data": {
      "text/html": [
       "<div>\n",
       "<style scoped>\n",
       "    .dataframe tbody tr th:only-of-type {\n",
       "        vertical-align: middle;\n",
       "    }\n",
       "\n",
       "    .dataframe tbody tr th {\n",
       "        vertical-align: top;\n",
       "    }\n",
       "\n",
       "    .dataframe thead th {\n",
       "        text-align: right;\n",
       "    }\n",
       "</style>\n",
       "<table border=\"1\" class=\"dataframe\">\n",
       "  <thead>\n",
       "    <tr style=\"text-align: right;\">\n",
       "      <th></th>\n",
       "      <th>LC_PLY_PID</th>\n",
       "      <th>DT_CREATE</th>\n",
       "      <th>DT_RETIRE</th>\n",
       "      <th>LOC_PID</th>\n",
       "      <th>VIC_LOCALI</th>\n",
       "      <th>VIC_LOCA_1</th>\n",
       "      <th>VIC_LOCA_2</th>\n",
       "      <th>VIC_LOCA_3</th>\n",
       "      <th>VIC_LOCA_4</th>\n",
       "      <th>VIC_LOCA_5</th>\n",
       "      <th>VIC_LOCA_6</th>\n",
       "      <th>VIC_LOCA_7</th>\n",
       "      <th>geometry</th>\n",
       "    </tr>\n",
       "  </thead>\n",
       "  <tbody>\n",
       "    <tr>\n",
       "      <th>0</th>\n",
       "      <td>6670</td>\n",
       "      <td>2011-08-31</td>\n",
       "      <td>None</td>\n",
       "      <td>VIC2615</td>\n",
       "      <td>2012-04-27</td>\n",
       "      <td>None</td>\n",
       "      <td>UNDERBOOL</td>\n",
       "      <td>None</td>\n",
       "      <td>None</td>\n",
       "      <td>G</td>\n",
       "      <td>None</td>\n",
       "      <td>2</td>\n",
       "      <td>POLYGON ((141.74552 -35.07229, 141.74552 -35.0...</td>\n",
       "    </tr>\n",
       "    <tr>\n",
       "      <th>1</th>\n",
       "      <td>6671</td>\n",
       "      <td>2011-08-31</td>\n",
       "      <td>None</td>\n",
       "      <td>VIC1986</td>\n",
       "      <td>2012-04-27</td>\n",
       "      <td>None</td>\n",
       "      <td>NURRAN</td>\n",
       "      <td>None</td>\n",
       "      <td>None</td>\n",
       "      <td>G</td>\n",
       "      <td>None</td>\n",
       "      <td>2</td>\n",
       "      <td>POLYGON ((148.66877 -37.39571, 148.66876 -37.3...</td>\n",
       "    </tr>\n",
       "    <tr>\n",
       "      <th>2</th>\n",
       "      <td>6672</td>\n",
       "      <td>2011-08-31</td>\n",
       "      <td>None</td>\n",
       "      <td>VIC2862</td>\n",
       "      <td>2012-04-27</td>\n",
       "      <td>None</td>\n",
       "      <td>WOORNDOO</td>\n",
       "      <td>None</td>\n",
       "      <td>None</td>\n",
       "      <td>G</td>\n",
       "      <td>None</td>\n",
       "      <td>2</td>\n",
       "      <td>POLYGON ((142.92288 -37.97886, 142.90449 -37.9...</td>\n",
       "    </tr>\n",
       "    <tr>\n",
       "      <th>3</th>\n",
       "      <td>6673</td>\n",
       "      <td>2011-08-31</td>\n",
       "      <td>None</td>\n",
       "      <td>VIC734</td>\n",
       "      <td>2017-08-09</td>\n",
       "      <td>None</td>\n",
       "      <td>DEPTFORD</td>\n",
       "      <td>None</td>\n",
       "      <td>None</td>\n",
       "      <td>G</td>\n",
       "      <td>None</td>\n",
       "      <td>2</td>\n",
       "      <td>POLYGON ((147.82336 -37.66001, 147.82313 -37.6...</td>\n",
       "    </tr>\n",
       "    <tr>\n",
       "      <th>4</th>\n",
       "      <td>6674</td>\n",
       "      <td>2011-08-31</td>\n",
       "      <td>None</td>\n",
       "      <td>VIC2900</td>\n",
       "      <td>2012-04-27</td>\n",
       "      <td>None</td>\n",
       "      <td>YANAC</td>\n",
       "      <td>None</td>\n",
       "      <td>None</td>\n",
       "      <td>G</td>\n",
       "      <td>None</td>\n",
       "      <td>2</td>\n",
       "      <td>POLYGON ((141.27978 -35.99859, 141.27989 -35.9...</td>\n",
       "    </tr>\n",
       "  </tbody>\n",
       "</table>\n",
       "</div>"
      ],
      "text/plain": [
       "  LC_PLY_PID   DT_CREATE DT_RETIRE  LOC_PID  VIC_LOCALI VIC_LOCA_1 VIC_LOCA_2  \\\n",
       "0       6670  2011-08-31      None  VIC2615  2012-04-27       None  UNDERBOOL   \n",
       "1       6671  2011-08-31      None  VIC1986  2012-04-27       None     NURRAN   \n",
       "2       6672  2011-08-31      None  VIC2862  2012-04-27       None   WOORNDOO   \n",
       "3       6673  2011-08-31      None   VIC734  2017-08-09       None   DEPTFORD   \n",
       "4       6674  2011-08-31      None  VIC2900  2012-04-27       None      YANAC   \n",
       "\n",
       "  VIC_LOCA_3 VIC_LOCA_4 VIC_LOCA_5 VIC_LOCA_6 VIC_LOCA_7  \\\n",
       "0       None       None          G       None          2   \n",
       "1       None       None          G       None          2   \n",
       "2       None       None          G       None          2   \n",
       "3       None       None          G       None          2   \n",
       "4       None       None          G       None          2   \n",
       "\n",
       "                                            geometry  \n",
       "0  POLYGON ((141.74552 -35.07229, 141.74552 -35.0...  \n",
       "1  POLYGON ((148.66877 -37.39571, 148.66876 -37.3...  \n",
       "2  POLYGON ((142.92288 -37.97886, 142.90449 -37.9...  \n",
       "3  POLYGON ((147.82336 -37.66001, 147.82313 -37.6...  \n",
       "4  POLYGON ((141.27978 -35.99859, 141.27989 -35.9...  "
      ]
     },
     "execution_count": 858,
     "metadata": {},
     "output_type": "execute_result"
    }
   ],
   "source": [
    "geo_dataset= geopandas.read_file('/Users/shubhamsingh/Documents/vic_suburb_boundary') \n",
    "geo_dataset.head()#reading the shape file as a dataframe"
   ]
  },
  {
   "cell_type": "markdown",
   "metadata": {},
   "source": [
    "- We will use the geometry column- which consists of polygons in order to determine the suburb and will match the same column in our real state data to combine two table. \n",
    "- If the polygon containts the co-ordinates of the property, we return the corresponding suburb name."
   ]
  },
  {
   "cell_type": "code",
   "execution_count": 859,
   "metadata": {},
   "outputs": [],
   "source": [
    "suburb=[]\n",
    "lon=df_real['lng']\n",
    "lat=df_real['lat']\n",
    "\n",
    "for i in range(len(lon)):\n",
    "    item=Point(lon[i], lat[i])\n",
    "    suburb.append((geo_dataset[geo_dataset['geometry'].contains(item)].VIC_LOCA_2).to_string()) #checking if polygon contains point, if yes, suburb is returned in list"
   ]
  },
  {
   "cell_type": "code",
   "execution_count": 860,
   "metadata": {},
   "outputs": [],
   "source": [
    "for i in range(len(suburb)):\n",
    "    if suburb[i] is None:\n",
    "        suburb[i]=\"not available\"\n",
    "    else:\n",
    "        suburb[i]=re.sub(r'\\d', '', suburb[i]).strip()"
   ]
  },
  {
   "cell_type": "code",
   "execution_count": 861,
   "metadata": {},
   "outputs": [],
   "source": [
    "df_real['Suburb']=suburb #suburb list added to dataframe"
   ]
  },
  {
   "cell_type": "code",
   "execution_count": 862,
   "metadata": {},
   "outputs": [
    {
     "data": {
      "text/html": [
       "<div>\n",
       "<style scoped>\n",
       "    .dataframe tbody tr th:only-of-type {\n",
       "        vertical-align: middle;\n",
       "    }\n",
       "\n",
       "    .dataframe tbody tr th {\n",
       "        vertical-align: top;\n",
       "    }\n",
       "\n",
       "    .dataframe thead th {\n",
       "        text-align: right;\n",
       "    }\n",
       "</style>\n",
       "<table border=\"1\" class=\"dataframe\">\n",
       "  <thead>\n",
       "    <tr style=\"text-align: right;\">\n",
       "      <th></th>\n",
       "      <th>property_id</th>\n",
       "      <th>lat</th>\n",
       "      <th>lng</th>\n",
       "      <th>addr_street</th>\n",
       "      <th>Suburb</th>\n",
       "      <th>price</th>\n",
       "      <th>property_type</th>\n",
       "      <th>year</th>\n",
       "      <th>bedrooms</th>\n",
       "      <th>bathrooms</th>\n",
       "      <th>parking_space</th>\n",
       "    </tr>\n",
       "  </thead>\n",
       "  <tbody>\n",
       "    <tr>\n",
       "      <th>0</th>\n",
       "      <td>68741</td>\n",
       "      <td>-37.856149</td>\n",
       "      <td>145.037211</td>\n",
       "      <td>11 Eva Street</td>\n",
       "      <td>MALVERN</td>\n",
       "      <td>15720000</td>\n",
       "      <td>house</td>\n",
       "      <td>2014</td>\n",
       "      <td>3</td>\n",
       "      <td>1</td>\n",
       "      <td>0</td>\n",
       "    </tr>\n",
       "    <tr>\n",
       "      <th>1</th>\n",
       "      <td>19266</td>\n",
       "      <td>-37.669824</td>\n",
       "      <td>144.933401</td>\n",
       "      <td>9 Morwell Crescent</td>\n",
       "      <td>DALLAS</td>\n",
       "      <td>2224000</td>\n",
       "      <td>house</td>\n",
       "      <td>2012</td>\n",
       "      <td>3</td>\n",
       "      <td>1</td>\n",
       "      <td>1</td>\n",
       "    </tr>\n",
       "    <tr>\n",
       "      <th>2</th>\n",
       "      <td>3063</td>\n",
       "      <td>-37.815887</td>\n",
       "      <td>144.888282</td>\n",
       "      <td>20 Canterbury Street</td>\n",
       "      <td>YARRAVILLE</td>\n",
       "      <td>15540000</td>\n",
       "      <td>house</td>\n",
       "      <td>2012</td>\n",
       "      <td>3</td>\n",
       "      <td>2</td>\n",
       "      <td>2</td>\n",
       "    </tr>\n",
       "    <tr>\n",
       "      <th>3</th>\n",
       "      <td>1685</td>\n",
       "      <td>-37.808658</td>\n",
       "      <td>144.883991</td>\n",
       "      <td>112 Williamstown Road</td>\n",
       "      <td>KINGSVILLE</td>\n",
       "      <td>9600000</td>\n",
       "      <td>house</td>\n",
       "      <td>2015</td>\n",
       "      <td>3</td>\n",
       "      <td>1</td>\n",
       "      <td>2</td>\n",
       "    </tr>\n",
       "    <tr>\n",
       "      <th>4</th>\n",
       "      <td>45135</td>\n",
       "      <td>-37.707832</td>\n",
       "      <td>145.088287</td>\n",
       "      <td>468 Greensborough Road</td>\n",
       "      <td>GREENSBOROUGH</td>\n",
       "      <td>5715000</td>\n",
       "      <td>house</td>\n",
       "      <td>2015</td>\n",
       "      <td>5</td>\n",
       "      <td>3</td>\n",
       "      <td>0</td>\n",
       "    </tr>\n",
       "  </tbody>\n",
       "</table>\n",
       "</div>"
      ],
      "text/plain": [
       "   property_id        lat         lng             addr_street         Suburb  \\\n",
       "0        68741 -37.856149  145.037211           11 Eva Street        MALVERN   \n",
       "1        19266 -37.669824  144.933401      9 Morwell Crescent         DALLAS   \n",
       "2         3063 -37.815887  144.888282    20 Canterbury Street     YARRAVILLE   \n",
       "3         1685 -37.808658  144.883991   112 Williamstown Road     KINGSVILLE   \n",
       "4        45135 -37.707832  145.088287  468 Greensborough Road  GREENSBOROUGH   \n",
       "\n",
       "      price property_type  year  bedrooms  bathrooms  parking_space  \n",
       "0  15720000         house  2014         3          1              0  \n",
       "1   2224000         house  2012         3          1              1  \n",
       "2  15540000         house  2012         3          2              2  \n",
       "3   9600000         house  2015         3          1              2  \n",
       "4   5715000         house  2015         5          3              0  "
      ]
     },
     "execution_count": 862,
     "metadata": {},
     "output_type": "execute_result"
    }
   ],
   "source": [
    "# defining the structure of the dataframe\n",
    "df_real = df_real[['property_id', 'lat', 'lng', 'addr_street', 'Suburb', \n",
    "                   'price', 'property_type', 'year', 'bedrooms', 'bathrooms', 'parking_space']]\n",
    "df_real.head()"
   ]
  },
  {
   "cell_type": "markdown",
   "metadata": {},
   "source": [
    "Building the distance function used to calculate nearest hospital, train station, supermarker and shopping center."
   ]
  },
  {
   "cell_type": "code",
   "execution_count": 863,
   "metadata": {},
   "outputs": [],
   "source": [
    "import numpy as np\n",
    "def haversine_np(lat1,lon1,lat2, lon2):\n",
    "    lon1, lat1, lon2, lat2 = map(np.radians, [lon1, lat1, lon2, lat2])\n",
    "\n",
    "    dlon = lon2 - lon1\n",
    "    dlat = lat2 - lat1\n",
    "\n",
    "    a = np.sin(dlat/2.0)**2 + np.cos(lat1) * np.cos(lat2) * np.sin(dlon/2.0)**2\n",
    "\n",
    "    c = 2 * np.arcsin(np.sqrt(a))\n",
    "    km = 6378 * c *1000\n",
    "    return(km.round(2))"
   ]
  },
  {
   "cell_type": "markdown",
   "metadata": {},
   "source": [
    "### New columns as mentioned in the specification"
   ]
  },
  {
   "cell_type": "code",
   "execution_count": 864,
   "metadata": {},
   "outputs": [],
   "source": [
    "df_real['Shopping_center_id'] = \"not available\"\n",
    "df_real['Distance_to_sc'] = 0\n",
    "df_real['Train_station_id'] = 0\n",
    "df_real['Distance_to_train_station'] = 0\n",
    "df_real['travel_min_to_CBD'] = 0\n",
    "df_real['Transfer_flag'] = -1\n",
    "df_real['Hospital_id'] = \"not available\"\n",
    "df_real['Distance_to_hospital'] = 0\n",
    "df_real['Supermarket_id'] = \"not available\"\n",
    "df_real['Distance_to_supermaket'] = 0\n"
   ]
  },
  {
   "cell_type": "code",
   "execution_count": 865,
   "metadata": {},
   "outputs": [
    {
     "data": {
      "text/html": [
       "<div>\n",
       "<style scoped>\n",
       "    .dataframe tbody tr th:only-of-type {\n",
       "        vertical-align: middle;\n",
       "    }\n",
       "\n",
       "    .dataframe tbody tr th {\n",
       "        vertical-align: top;\n",
       "    }\n",
       "\n",
       "    .dataframe thead th {\n",
       "        text-align: right;\n",
       "    }\n",
       "</style>\n",
       "<table border=\"1\" class=\"dataframe\">\n",
       "  <thead>\n",
       "    <tr style=\"text-align: right;\">\n",
       "      <th></th>\n",
       "      <th>property_id</th>\n",
       "      <th>lat</th>\n",
       "      <th>lng</th>\n",
       "      <th>addr_street</th>\n",
       "      <th>Suburb</th>\n",
       "      <th>price</th>\n",
       "      <th>property_type</th>\n",
       "      <th>year</th>\n",
       "      <th>bedrooms</th>\n",
       "      <th>bathrooms</th>\n",
       "      <th>...</th>\n",
       "      <th>Shopping_center_id</th>\n",
       "      <th>Distance_to_sc</th>\n",
       "      <th>Train_station_id</th>\n",
       "      <th>Distance_to_train_station</th>\n",
       "      <th>travel_min_to_CBD</th>\n",
       "      <th>Transfer_flag</th>\n",
       "      <th>Hospital_id</th>\n",
       "      <th>Distance_to_hospital</th>\n",
       "      <th>Supermarket_id</th>\n",
       "      <th>Distance_to_supermaket</th>\n",
       "    </tr>\n",
       "  </thead>\n",
       "  <tbody>\n",
       "    <tr>\n",
       "      <th>0</th>\n",
       "      <td>68741</td>\n",
       "      <td>-37.856149</td>\n",
       "      <td>145.037211</td>\n",
       "      <td>11 Eva Street</td>\n",
       "      <td>MALVERN</td>\n",
       "      <td>15720000</td>\n",
       "      <td>house</td>\n",
       "      <td>2014</td>\n",
       "      <td>3</td>\n",
       "      <td>1</td>\n",
       "      <td>...</td>\n",
       "      <td>not available</td>\n",
       "      <td>0</td>\n",
       "      <td>0</td>\n",
       "      <td>0</td>\n",
       "      <td>0</td>\n",
       "      <td>-1</td>\n",
       "      <td>not available</td>\n",
       "      <td>0</td>\n",
       "      <td>not available</td>\n",
       "      <td>0</td>\n",
       "    </tr>\n",
       "    <tr>\n",
       "      <th>1</th>\n",
       "      <td>19266</td>\n",
       "      <td>-37.669824</td>\n",
       "      <td>144.933401</td>\n",
       "      <td>9 Morwell Crescent</td>\n",
       "      <td>DALLAS</td>\n",
       "      <td>2224000</td>\n",
       "      <td>house</td>\n",
       "      <td>2012</td>\n",
       "      <td>3</td>\n",
       "      <td>1</td>\n",
       "      <td>...</td>\n",
       "      <td>not available</td>\n",
       "      <td>0</td>\n",
       "      <td>0</td>\n",
       "      <td>0</td>\n",
       "      <td>0</td>\n",
       "      <td>-1</td>\n",
       "      <td>not available</td>\n",
       "      <td>0</td>\n",
       "      <td>not available</td>\n",
       "      <td>0</td>\n",
       "    </tr>\n",
       "    <tr>\n",
       "      <th>2</th>\n",
       "      <td>3063</td>\n",
       "      <td>-37.815887</td>\n",
       "      <td>144.888282</td>\n",
       "      <td>20 Canterbury Street</td>\n",
       "      <td>YARRAVILLE</td>\n",
       "      <td>15540000</td>\n",
       "      <td>house</td>\n",
       "      <td>2012</td>\n",
       "      <td>3</td>\n",
       "      <td>2</td>\n",
       "      <td>...</td>\n",
       "      <td>not available</td>\n",
       "      <td>0</td>\n",
       "      <td>0</td>\n",
       "      <td>0</td>\n",
       "      <td>0</td>\n",
       "      <td>-1</td>\n",
       "      <td>not available</td>\n",
       "      <td>0</td>\n",
       "      <td>not available</td>\n",
       "      <td>0</td>\n",
       "    </tr>\n",
       "    <tr>\n",
       "      <th>3</th>\n",
       "      <td>1685</td>\n",
       "      <td>-37.808658</td>\n",
       "      <td>144.883991</td>\n",
       "      <td>112 Williamstown Road</td>\n",
       "      <td>KINGSVILLE</td>\n",
       "      <td>9600000</td>\n",
       "      <td>house</td>\n",
       "      <td>2015</td>\n",
       "      <td>3</td>\n",
       "      <td>1</td>\n",
       "      <td>...</td>\n",
       "      <td>not available</td>\n",
       "      <td>0</td>\n",
       "      <td>0</td>\n",
       "      <td>0</td>\n",
       "      <td>0</td>\n",
       "      <td>-1</td>\n",
       "      <td>not available</td>\n",
       "      <td>0</td>\n",
       "      <td>not available</td>\n",
       "      <td>0</td>\n",
       "    </tr>\n",
       "    <tr>\n",
       "      <th>4</th>\n",
       "      <td>45135</td>\n",
       "      <td>-37.707832</td>\n",
       "      <td>145.088287</td>\n",
       "      <td>468 Greensborough Road</td>\n",
       "      <td>GREENSBOROUGH</td>\n",
       "      <td>5715000</td>\n",
       "      <td>house</td>\n",
       "      <td>2015</td>\n",
       "      <td>5</td>\n",
       "      <td>3</td>\n",
       "      <td>...</td>\n",
       "      <td>not available</td>\n",
       "      <td>0</td>\n",
       "      <td>0</td>\n",
       "      <td>0</td>\n",
       "      <td>0</td>\n",
       "      <td>-1</td>\n",
       "      <td>not available</td>\n",
       "      <td>0</td>\n",
       "      <td>not available</td>\n",
       "      <td>0</td>\n",
       "    </tr>\n",
       "  </tbody>\n",
       "</table>\n",
       "<p>5 rows × 21 columns</p>\n",
       "</div>"
      ],
      "text/plain": [
       "   property_id        lat         lng             addr_street         Suburb  \\\n",
       "0        68741 -37.856149  145.037211           11 Eva Street        MALVERN   \n",
       "1        19266 -37.669824  144.933401      9 Morwell Crescent         DALLAS   \n",
       "2         3063 -37.815887  144.888282    20 Canterbury Street     YARRAVILLE   \n",
       "3         1685 -37.808658  144.883991   112 Williamstown Road     KINGSVILLE   \n",
       "4        45135 -37.707832  145.088287  468 Greensborough Road  GREENSBOROUGH   \n",
       "\n",
       "      price property_type  year  bedrooms  bathrooms  ...  Shopping_center_id  \\\n",
       "0  15720000         house  2014         3          1  ...       not available   \n",
       "1   2224000         house  2012         3          1  ...       not available   \n",
       "2  15540000         house  2012         3          2  ...       not available   \n",
       "3   9600000         house  2015         3          1  ...       not available   \n",
       "4   5715000         house  2015         5          3  ...       not available   \n",
       "\n",
       "  Distance_to_sc  Train_station_id  Distance_to_train_station  \\\n",
       "0              0                 0                          0   \n",
       "1              0                 0                          0   \n",
       "2              0                 0                          0   \n",
       "3              0                 0                          0   \n",
       "4              0                 0                          0   \n",
       "\n",
       "   travel_min_to_CBD  Transfer_flag    Hospital_id Distance_to_hospital  \\\n",
       "0                  0             -1  not available                    0   \n",
       "1                  0             -1  not available                    0   \n",
       "2                  0             -1  not available                    0   \n",
       "3                  0             -1  not available                    0   \n",
       "4                  0             -1  not available                    0   \n",
       "\n",
       "   Supermarket_id Distance_to_supermaket  \n",
       "0   not available                      0  \n",
       "1   not available                      0  \n",
       "2   not available                      0  \n",
       "3   not available                      0  \n",
       "4   not available                      0  \n",
       "\n",
       "[5 rows x 21 columns]"
      ]
     },
     "execution_count": 865,
     "metadata": {},
     "output_type": "execute_result"
    }
   ],
   "source": [
    "df_real.head()"
   ]
  },
  {
   "cell_type": "code",
   "execution_count": 866,
   "metadata": {},
   "outputs": [
    {
     "data": {
      "text/plain": [
       "Index(['property_id', 'lat', 'lng', 'addr_street', 'Suburb', 'price',\n",
       "       'property_type', 'year', 'bedrooms', 'bathrooms', 'parking_space',\n",
       "       'Shopping_center_id', 'Distance_to_sc', 'Train_station_id',\n",
       "       'Distance_to_train_station', 'travel_min_to_CBD', 'Transfer_flag',\n",
       "       'Hospital_id', 'Distance_to_hospital', 'Supermarket_id',\n",
       "       'Distance_to_supermaket'],\n",
       "      dtype='object')"
      ]
     },
     "execution_count": 866,
     "metadata": {},
     "output_type": "execute_result"
    }
   ],
   "source": [
    "df_real.columns"
   ]
  },
  {
   "cell_type": "markdown",
   "metadata": {},
   "source": [
    "## Calculating minimum distance to Shopping center\n",
    "\n",
    "I have iterrated through the datafram picking a property id and calculating the distance of all the shopping centers from the property and then taking the minimum of the distance and imputing the corresponding sc_id of the same to the data frame."
   ]
  },
  {
   "cell_type": "code",
   "execution_count": 867,
   "metadata": {},
   "outputs": [],
   "source": [
    "import math\n",
    "m = 0\n",
    "dict1 = {}\n",
    "for (j, row2) in df_real.iterrows():\n",
    "    lat_p = float(row2['lat'])\n",
    "    lng_p = float(row2['lng'])\n",
    "    prop_id = row2['property_id']\n",
    "    list_d = []\n",
    "\n",
    "    dict2 = {}\n",
    "    for (i, row) in shoping_df.iterrows():\n",
    "        lat_s = float(row['lat'])\n",
    "        lng_s = float(row['lng'])\n",
    "        sc_id = row['sc_id']\n",
    "        dist = haversine_np(lat_p,lng_p,lat_s,lng_s)\n",
    "        list_d.append(dist)\n",
    "\n",
    "        dict2[dist] = sc_id\n",
    "\n",
    "    list_d.sort()\n",
    "\n",
    "    dis_fin = list_d[0]\n",
    "\n",
    "    sc_id = dict2[dis_fin]\n",
    "\n",
    "    if math.isnan(dis_fin):\n",
    "        None\n",
    "    else:    \n",
    "        df_real.loc[j,'Distance_to_sc'] = dis_fin\n",
    "        df_real.loc[j,'Shopping_center_id'] = sc_id\n",
    "    m = m+1\n"
   ]
  },
  {
   "cell_type": "markdown",
   "metadata": {},
   "source": [
    "## Calculating minimum distance to Supermarket \n",
    "\n",
    "I have iterrated through the dataframe picking a property id and calculating the distance of all the supermarkets from the property and then taking the minimum of the distance and imputing the corresponding supermarket id of the same to the data frame."
   ]
  },
  {
   "cell_type": "code",
   "execution_count": 869,
   "metadata": {},
   "outputs": [],
   "source": [
    "import math\n",
    "m = 0\n",
    "dict1 = {}\n",
    "for (j, row2) in df_real.iterrows():\n",
    "    lat_p = float(row2['lat'])\n",
    "    lng_p = float(row2['lng'])\n",
    "    prop_id = row2['property_id']\n",
    "    list_d = []\n",
    "    #list_j = []\n",
    "    dict2 = {}\n",
    "    for (i, row) in df_supermarkets.iterrows():\n",
    "        lat_s = float(row['lat'])\n",
    "        lng_s = float(row['lng'])\n",
    "        sc_id = row['id']\n",
    "        dist = haversine_np(lat_p,lng_p,lat_s,lng_s)\n",
    "        list_d.append(dist)\n",
    "        #dict1[prop_id] = sc_id,dist\n",
    "        dict2[dist] = sc_id\n",
    "    list_d.sort()\n",
    "    #dis_fin = float(list_d[0])\n",
    "    dis_fin = list_d[0]\n",
    "    sc_id = dict2[dis_fin]\n",
    "    if math.isnan(dis_fin):\n",
    "        None\n",
    "    else:    \n",
    "        df_real.loc[j,'Distance_to_supermaket'] = dis_fin\n",
    "        df_real.loc[j,'Supermarket_id'] = sc_id\n",
    "    #df_2.iloc[m,11] = [id_sc for id_sc, val in dict2.items() if val == dis_fin]\n",
    "    m = m+1"
   ]
  },
  {
   "cell_type": "markdown",
   "metadata": {},
   "source": [
    "## Calculating minimum distance to hospital\n",
    "\n",
    "I have iterrated through the dataframe picking a property id and calculating the distance of all the hospitals from the property and then taking the minimum of the distance and imputing the corresponding hospital id of the same to the data frame."
   ]
  },
  {
   "cell_type": "code",
   "execution_count": 870,
   "metadata": {},
   "outputs": [],
   "source": [
    "import math\n",
    "m = 0\n",
    "dict1 = {}\n",
    "for j, row2 in df_real.iterrows():\n",
    "    lat_p = float(row2['lat'])\n",
    "    lng_p = float(row2['lng'])\n",
    "    prop_id = row2['property_id']\n",
    "    list_d = []\n",
    "    #list_j = []\n",
    "    dict2 = {}\n",
    "    for i, row in df_hospitals.iterrows():\n",
    "        lat_s = float(row['lat'])\n",
    "        lng_s = float(row['lng'])\n",
    "        sc_id = row['id']\n",
    "        dist = haversine_np(lat_p,lng_p,lat_s,lng_s)\n",
    "        list_d.append(dist)\n",
    "        #dict1[prop_id] = sc_id,dist\n",
    "        dict2[dist] = sc_id\n",
    "    list_d.sort()\n",
    "    #dis_fin = float(list_d[0])\n",
    "    dis_fin = list_d[0]\n",
    "    sc_id = dict2[dis_fin]\n",
    "    if math.isnan(dis_fin):\n",
    "        None\n",
    "    else:    \n",
    "        df_real.loc[j,'Distance_to_hospital'] = dis_fin\n",
    "        df_real.loc[j,'Hospital_id'] = sc_id\n",
    "    #df_2.iloc[m,11] = [id_sc for id_sc, val in dict2.items() if val == dis_fin]\n",
    "    m = m+1\n",
    "#print(max(list_j))"
   ]
  },
  {
   "cell_type": "markdown",
   "metadata": {},
   "source": [
    "## Calculating minimum distance to Train station \n",
    "\n",
    "I have iterrated through the dataframe picking a property id and calculating the distance of all the stations from the property and then taking the minimum of the distance and imputing the corresponding train station id of the same to the data frame."
   ]
  },
  {
   "cell_type": "code",
   "execution_count": 871,
   "metadata": {},
   "outputs": [],
   "source": [
    "import math\n",
    "m = 0\n",
    "dict1 = {}\n",
    "for (j, row2) in df_real.iterrows():\n",
    "    lat_p = float(row2['lat'])\n",
    "    lng_p = float(row2['lng'])\n",
    "    prop_id = row2['property_id']\n",
    "    list_d = []\n",
    "    #list_j = []\n",
    "    dict2 = {}\n",
    "    for (i, row) in df_stops.iterrows():\n",
    "        lat_s = float(row['stop_lat'])\n",
    "        lng_s = float(row['stop_lon'])\n",
    "        sc_id = row['stop_id']\n",
    "        dist = haversine_np(lat_p,lng_p,lat_s,lng_s)\n",
    "        list_d.append(dist)\n",
    "        #dict1[prop_id] = sc_id,dist\n",
    "        dict2[dist] = sc_id\n",
    "    list_d.sort()\n",
    "    #dis_fin = float(list_d[0])\n",
    "    dis_fin = list_d[0]\n",
    "    sc_id = dict2[dis_fin]\n",
    "    if math.isnan(dis_fin):\n",
    "        None\n",
    "    else:    \n",
    "        df_real.loc[j,'Distance_to_train_station'] = dis_fin\n",
    "        df_real.loc[j,'Train_station_id'] = sc_id\n",
    "    #df_2.iloc[m,11] = [id_sc for id_sc, val in dict2.items() if val == dis_fin]\n",
    "    m = m+1\n",
    "#print(max(list_j))"
   ]
  },
  {
   "cell_type": "markdown",
   "metadata": {},
   "source": [
    "## Calculating travel time to CBD"
   ]
  },
  {
   "cell_type": "code",
   "execution_count": 872,
   "metadata": {},
   "outputs": [
    {
     "data": {
      "text/html": [
       "<div>\n",
       "<style scoped>\n",
       "    .dataframe tbody tr th:only-of-type {\n",
       "        vertical-align: middle;\n",
       "    }\n",
       "\n",
       "    .dataframe tbody tr th {\n",
       "        vertical-align: top;\n",
       "    }\n",
       "\n",
       "    .dataframe thead th {\n",
       "        text-align: right;\n",
       "    }\n",
       "</style>\n",
       "<table border=\"1\" class=\"dataframe\">\n",
       "  <thead>\n",
       "    <tr style=\"text-align: right;\">\n",
       "      <th></th>\n",
       "      <th>trip_id</th>\n",
       "      <th>arrival_time</th>\n",
       "      <th>departure_time</th>\n",
       "      <th>stop_id</th>\n",
       "      <th>stop_sequence</th>\n",
       "      <th>stop_headsign</th>\n",
       "      <th>pickup_type</th>\n",
       "      <th>drop_off_type</th>\n",
       "      <th>shape_dist_traveled</th>\n",
       "    </tr>\n",
       "  </thead>\n",
       "  <tbody>\n",
       "    <tr>\n",
       "      <th>0</th>\n",
       "      <td>17182517.T2.2-ALM-B-mjp-1.1.H</td>\n",
       "      <td>04:57:00</td>\n",
       "      <td>04:57:00</td>\n",
       "      <td>19847</td>\n",
       "      <td>1</td>\n",
       "      <td>NaN</td>\n",
       "      <td>0</td>\n",
       "      <td>0</td>\n",
       "      <td>0.000000</td>\n",
       "    </tr>\n",
       "    <tr>\n",
       "      <th>1</th>\n",
       "      <td>17182517.T2.2-ALM-B-mjp-1.1.H</td>\n",
       "      <td>04:58:00</td>\n",
       "      <td>04:58:00</td>\n",
       "      <td>19848</td>\n",
       "      <td>2</td>\n",
       "      <td>NaN</td>\n",
       "      <td>0</td>\n",
       "      <td>0</td>\n",
       "      <td>723.017818</td>\n",
       "    </tr>\n",
       "    <tr>\n",
       "      <th>2</th>\n",
       "      <td>17182517.T2.2-ALM-B-mjp-1.1.H</td>\n",
       "      <td>05:00:00</td>\n",
       "      <td>05:00:00</td>\n",
       "      <td>19849</td>\n",
       "      <td>3</td>\n",
       "      <td>NaN</td>\n",
       "      <td>0</td>\n",
       "      <td>0</td>\n",
       "      <td>1951.735072</td>\n",
       "    </tr>\n",
       "    <tr>\n",
       "      <th>3</th>\n",
       "      <td>17182517.T2.2-ALM-B-mjp-1.1.H</td>\n",
       "      <td>05:02:00</td>\n",
       "      <td>05:02:00</td>\n",
       "      <td>19850</td>\n",
       "      <td>4</td>\n",
       "      <td>NaN</td>\n",
       "      <td>0</td>\n",
       "      <td>0</td>\n",
       "      <td>2899.073349</td>\n",
       "    </tr>\n",
       "    <tr>\n",
       "      <th>4</th>\n",
       "      <td>17182517.T2.2-ALM-B-mjp-1.1.H</td>\n",
       "      <td>05:04:00</td>\n",
       "      <td>05:04:00</td>\n",
       "      <td>19851</td>\n",
       "      <td>5</td>\n",
       "      <td>NaN</td>\n",
       "      <td>0</td>\n",
       "      <td>0</td>\n",
       "      <td>3927.090952</td>\n",
       "    </tr>\n",
       "  </tbody>\n",
       "</table>\n",
       "</div>"
      ],
      "text/plain": [
       "                         trip_id arrival_time departure_time  stop_id  \\\n",
       "0  17182517.T2.2-ALM-B-mjp-1.1.H     04:57:00       04:57:00    19847   \n",
       "1  17182517.T2.2-ALM-B-mjp-1.1.H     04:58:00       04:58:00    19848   \n",
       "2  17182517.T2.2-ALM-B-mjp-1.1.H     05:00:00       05:00:00    19849   \n",
       "3  17182517.T2.2-ALM-B-mjp-1.1.H     05:02:00       05:02:00    19850   \n",
       "4  17182517.T2.2-ALM-B-mjp-1.1.H     05:04:00       05:04:00    19851   \n",
       "\n",
       "   stop_sequence  stop_headsign  pickup_type  drop_off_type  \\\n",
       "0              1            NaN            0              0   \n",
       "1              2            NaN            0              0   \n",
       "2              3            NaN            0              0   \n",
       "3              4            NaN            0              0   \n",
       "4              5            NaN            0              0   \n",
       "\n",
       "   shape_dist_traveled  \n",
       "0             0.000000  \n",
       "1           723.017818  \n",
       "2          1951.735072  \n",
       "3          2899.073349  \n",
       "4          3927.090952  "
      ]
     },
     "execution_count": 872,
     "metadata": {},
     "output_type": "execute_result"
    }
   ],
   "source": [
    "df_stop_times.head()"
   ]
  },
  {
   "cell_type": "markdown",
   "metadata": {},
   "source": [
    "Filtering the stop times data from 7 am to 9 am by departure time as specified."
   ]
  },
  {
   "cell_type": "code",
   "execution_count": 873,
   "metadata": {},
   "outputs": [
    {
     "name": "stdout",
     "output_type": "stream",
     "text": [
      "<class 'pandas.core.frame.DataFrame'>\n",
      "Int64Index: 48739 entries, 33 to 390205\n",
      "Data columns (total 9 columns):\n",
      " #   Column               Non-Null Count  Dtype  \n",
      "---  ------               --------------  -----  \n",
      " 0   trip_id              48739 non-null  object \n",
      " 1   arrival_time         48739 non-null  object \n",
      " 2   departure_time       48739 non-null  object \n",
      " 3   stop_id              48739 non-null  int64  \n",
      " 4   stop_sequence        48739 non-null  int64  \n",
      " 5   stop_headsign        0 non-null      float64\n",
      " 6   pickup_type          48739 non-null  int64  \n",
      " 7   drop_off_type        48739 non-null  int64  \n",
      " 8   shape_dist_traveled  48733 non-null  float64\n",
      "dtypes: float64(2), int64(4), object(3)\n",
      "memory usage: 3.7+ MB\n"
     ]
    }
   ],
   "source": [
    "df_stop_times_new = df_stop_times.loc[(df_stop_times['departure_time'] >= '07:00:00') & (df_stop_times['departure_time'] <= '09:00:00')] #& df['other_column'].isin(some_values)]\n",
    "\n",
    "df_stop_times_new['departure_time'] =  pd.to_datetime(df_stop_times_new['departure_time'], format='%H:%M:%S').dt.time\n",
    "df_stop_times_new['arrival_time'] =  pd.to_datetime(df_stop_times_new['arrival_time'], format='%H:%M:%S').dt.time\n",
    "df_stop_times_new.info()\n"
   ]
  },
  {
   "cell_type": "code",
   "execution_count": 874,
   "metadata": {},
   "outputs": [
    {
     "data": {
      "text/html": [
       "<div>\n",
       "<style scoped>\n",
       "    .dataframe tbody tr th:only-of-type {\n",
       "        vertical-align: middle;\n",
       "    }\n",
       "\n",
       "    .dataframe tbody tr th {\n",
       "        vertical-align: top;\n",
       "    }\n",
       "\n",
       "    .dataframe thead th {\n",
       "        text-align: right;\n",
       "    }\n",
       "</style>\n",
       "<table border=\"1\" class=\"dataframe\">\n",
       "  <thead>\n",
       "    <tr style=\"text-align: right;\">\n",
       "      <th></th>\n",
       "      <th>service_id</th>\n",
       "      <th>monday</th>\n",
       "      <th>tuesday</th>\n",
       "      <th>wednesday</th>\n",
       "      <th>thursday</th>\n",
       "      <th>friday</th>\n",
       "      <th>saturday</th>\n",
       "      <th>sunday</th>\n",
       "      <th>start_date</th>\n",
       "      <th>end_date</th>\n",
       "    </tr>\n",
       "  </thead>\n",
       "  <tbody>\n",
       "    <tr>\n",
       "      <th>0</th>\n",
       "      <td>T2</td>\n",
       "      <td>0</td>\n",
       "      <td>0</td>\n",
       "      <td>0</td>\n",
       "      <td>0</td>\n",
       "      <td>0</td>\n",
       "      <td>1</td>\n",
       "      <td>0</td>\n",
       "      <td>20151009</td>\n",
       "      <td>20151011</td>\n",
       "    </tr>\n",
       "    <tr>\n",
       "      <th>1</th>\n",
       "      <td>UJ</td>\n",
       "      <td>0</td>\n",
       "      <td>0</td>\n",
       "      <td>0</td>\n",
       "      <td>0</td>\n",
       "      <td>0</td>\n",
       "      <td>0</td>\n",
       "      <td>1</td>\n",
       "      <td>20151009</td>\n",
       "      <td>20151011</td>\n",
       "    </tr>\n",
       "    <tr>\n",
       "      <th>2</th>\n",
       "      <td>T6</td>\n",
       "      <td>0</td>\n",
       "      <td>0</td>\n",
       "      <td>0</td>\n",
       "      <td>0</td>\n",
       "      <td>1</td>\n",
       "      <td>0</td>\n",
       "      <td>0</td>\n",
       "      <td>20151009</td>\n",
       "      <td>20151011</td>\n",
       "    </tr>\n",
       "    <tr>\n",
       "      <th>3</th>\n",
       "      <td>T5</td>\n",
       "      <td>1</td>\n",
       "      <td>1</td>\n",
       "      <td>1</td>\n",
       "      <td>1</td>\n",
       "      <td>0</td>\n",
       "      <td>0</td>\n",
       "      <td>0</td>\n",
       "      <td>20151012</td>\n",
       "      <td>20151015</td>\n",
       "    </tr>\n",
       "    <tr>\n",
       "      <th>4</th>\n",
       "      <td>T2_1</td>\n",
       "      <td>0</td>\n",
       "      <td>0</td>\n",
       "      <td>0</td>\n",
       "      <td>0</td>\n",
       "      <td>0</td>\n",
       "      <td>1</td>\n",
       "      <td>0</td>\n",
       "      <td>20151016</td>\n",
       "      <td>20151018</td>\n",
       "    </tr>\n",
       "    <tr>\n",
       "      <th>5</th>\n",
       "      <td>UJ_1</td>\n",
       "      <td>0</td>\n",
       "      <td>0</td>\n",
       "      <td>0</td>\n",
       "      <td>0</td>\n",
       "      <td>0</td>\n",
       "      <td>0</td>\n",
       "      <td>1</td>\n",
       "      <td>20151016</td>\n",
       "      <td>20151018</td>\n",
       "    </tr>\n",
       "    <tr>\n",
       "      <th>6</th>\n",
       "      <td>T6_1</td>\n",
       "      <td>0</td>\n",
       "      <td>0</td>\n",
       "      <td>0</td>\n",
       "      <td>0</td>\n",
       "      <td>1</td>\n",
       "      <td>0</td>\n",
       "      <td>0</td>\n",
       "      <td>20151016</td>\n",
       "      <td>20151018</td>\n",
       "    </tr>\n",
       "    <tr>\n",
       "      <th>7</th>\n",
       "      <td>T5_1</td>\n",
       "      <td>1</td>\n",
       "      <td>1</td>\n",
       "      <td>1</td>\n",
       "      <td>1</td>\n",
       "      <td>0</td>\n",
       "      <td>0</td>\n",
       "      <td>0</td>\n",
       "      <td>20151019</td>\n",
       "      <td>20151022</td>\n",
       "    </tr>\n",
       "    <tr>\n",
       "      <th>8</th>\n",
       "      <td>T0</td>\n",
       "      <td>1</td>\n",
       "      <td>1</td>\n",
       "      <td>1</td>\n",
       "      <td>1</td>\n",
       "      <td>1</td>\n",
       "      <td>0</td>\n",
       "      <td>0</td>\n",
       "      <td>20151023</td>\n",
       "      <td>20151122</td>\n",
       "    </tr>\n",
       "    <tr>\n",
       "      <th>9</th>\n",
       "      <td>T2_2</td>\n",
       "      <td>0</td>\n",
       "      <td>0</td>\n",
       "      <td>0</td>\n",
       "      <td>0</td>\n",
       "      <td>0</td>\n",
       "      <td>1</td>\n",
       "      <td>0</td>\n",
       "      <td>20151023</td>\n",
       "      <td>20151122</td>\n",
       "    </tr>\n",
       "  </tbody>\n",
       "</table>\n",
       "</div>"
      ],
      "text/plain": [
       "  service_id  monday  tuesday  wednesday  thursday  friday  saturday  sunday  \\\n",
       "0         T2       0        0          0         0       0         1       0   \n",
       "1         UJ       0        0          0         0       0         0       1   \n",
       "2         T6       0        0          0         0       1         0       0   \n",
       "3         T5       1        1          1         1       0         0       0   \n",
       "4       T2_1       0        0          0         0       0         1       0   \n",
       "5       UJ_1       0        0          0         0       0         0       1   \n",
       "6       T6_1       0        0          0         0       1         0       0   \n",
       "7       T5_1       1        1          1         1       0         0       0   \n",
       "8         T0       1        1          1         1       1         0       0   \n",
       "9       T2_2       0        0          0         0       0         1       0   \n",
       "\n",
       "   start_date  end_date  \n",
       "0    20151009  20151011  \n",
       "1    20151009  20151011  \n",
       "2    20151009  20151011  \n",
       "3    20151012  20151015  \n",
       "4    20151016  20151018  \n",
       "5    20151016  20151018  \n",
       "6    20151016  20151018  \n",
       "7    20151019  20151022  \n",
       "8    20151023  20151122  \n",
       "9    20151023  20151122  "
      ]
     },
     "execution_count": 874,
     "metadata": {},
     "output_type": "execute_result"
    }
   ],
   "source": [
    "df_calendar.head(10)"
   ]
  },
  {
   "cell_type": "markdown",
   "metadata": {},
   "source": [
    "As per the GTFS files the data set calendar reveals that only T0 are the services id defining the trips from Monday to Friday which we have to consider."
   ]
  },
  {
   "cell_type": "code",
   "execution_count": 875,
   "metadata": {},
   "outputs": [],
   "source": [
    "df_trips_new = df_trips.loc[(df_trips['service_id'] == 'T0')]\n",
    "df_stop_trips_new = df_trips_new.merge(df_stop_times_new, left_on='trip_id', right_on='trip_id', how='inner')"
   ]
  },
  {
   "cell_type": "code",
   "execution_count": 876,
   "metadata": {},
   "outputs": [],
   "source": [
    "df_stop_trips_new['departure_time'] =  pd.to_datetime(df_stop_trips_new['departure_time'], format='%H:%M:%S').dt.time\n",
    "df_stop_trips_new['arrival_time'] =  pd.to_datetime(df_stop_trips_new['arrival_time'], format='%H:%M:%S').dt.time"
   ]
  },
  {
   "cell_type": "code",
   "execution_count": 877,
   "metadata": {},
   "outputs": [
    {
     "data": {
      "text/html": [
       "<div>\n",
       "<style scoped>\n",
       "    .dataframe tbody tr th:only-of-type {\n",
       "        vertical-align: middle;\n",
       "    }\n",
       "\n",
       "    .dataframe tbody tr th {\n",
       "        vertical-align: top;\n",
       "    }\n",
       "\n",
       "    .dataframe thead th {\n",
       "        text-align: right;\n",
       "    }\n",
       "</style>\n",
       "<table border=\"1\" class=\"dataframe\">\n",
       "  <thead>\n",
       "    <tr style=\"text-align: right;\">\n",
       "      <th></th>\n",
       "      <th>route_id</th>\n",
       "      <th>service_id</th>\n",
       "      <th>trip_id</th>\n",
       "      <th>shape_id</th>\n",
       "      <th>trip_headsign</th>\n",
       "      <th>direction_id</th>\n",
       "      <th>arrival_time</th>\n",
       "      <th>departure_time</th>\n",
       "      <th>stop_id</th>\n",
       "      <th>stop_sequence</th>\n",
       "      <th>stop_headsign</th>\n",
       "      <th>pickup_type</th>\n",
       "      <th>drop_off_type</th>\n",
       "      <th>shape_dist_traveled</th>\n",
       "    </tr>\n",
       "  </thead>\n",
       "  <tbody>\n",
       "    <tr>\n",
       "      <th>0</th>\n",
       "      <td>2-ALM-F-mjp-1</td>\n",
       "      <td>T0</td>\n",
       "      <td>17068385.T0.2-ALM-F-mjp-1.2.H</td>\n",
       "      <td>2-ALM-F-mjp-1.2.H</td>\n",
       "      <td>City (Flinders Street)</td>\n",
       "      <td>0</td>\n",
       "      <td>07:00:00</td>\n",
       "      <td>07:00:00</td>\n",
       "      <td>19904</td>\n",
       "      <td>9</td>\n",
       "      <td>NaN</td>\n",
       "      <td>0</td>\n",
       "      <td>0</td>\n",
       "      <td>8022.908868</td>\n",
       "    </tr>\n",
       "    <tr>\n",
       "      <th>1</th>\n",
       "      <td>2-ALM-F-mjp-1</td>\n",
       "      <td>T0</td>\n",
       "      <td>17068385.T0.2-ALM-F-mjp-1.2.H</td>\n",
       "      <td>2-ALM-F-mjp-1.2.H</td>\n",
       "      <td>City (Flinders Street)</td>\n",
       "      <td>0</td>\n",
       "      <td>07:02:00</td>\n",
       "      <td>07:02:00</td>\n",
       "      <td>19905</td>\n",
       "      <td>10</td>\n",
       "      <td>NaN</td>\n",
       "      <td>0</td>\n",
       "      <td>0</td>\n",
       "      <td>9254.702211</td>\n",
       "    </tr>\n",
       "    <tr>\n",
       "      <th>2</th>\n",
       "      <td>2-ALM-F-mjp-1</td>\n",
       "      <td>T0</td>\n",
       "      <td>17068385.T0.2-ALM-F-mjp-1.2.H</td>\n",
       "      <td>2-ALM-F-mjp-1.2.H</td>\n",
       "      <td>City (Flinders Street)</td>\n",
       "      <td>0</td>\n",
       "      <td>07:04:00</td>\n",
       "      <td>07:04:00</td>\n",
       "      <td>19906</td>\n",
       "      <td>11</td>\n",
       "      <td>NaN</td>\n",
       "      <td>0</td>\n",
       "      <td>0</td>\n",
       "      <td>10839.176110</td>\n",
       "    </tr>\n",
       "    <tr>\n",
       "      <th>3</th>\n",
       "      <td>2-ALM-F-mjp-1</td>\n",
       "      <td>T0</td>\n",
       "      <td>17068385.T0.2-ALM-F-mjp-1.2.H</td>\n",
       "      <td>2-ALM-F-mjp-1.2.H</td>\n",
       "      <td>City (Flinders Street)</td>\n",
       "      <td>0</td>\n",
       "      <td>07:07:00</td>\n",
       "      <td>07:07:00</td>\n",
       "      <td>19908</td>\n",
       "      <td>13</td>\n",
       "      <td>NaN</td>\n",
       "      <td>0</td>\n",
       "      <td>0</td>\n",
       "      <td>12454.831566</td>\n",
       "    </tr>\n",
       "    <tr>\n",
       "      <th>4</th>\n",
       "      <td>2-ALM-F-mjp-1</td>\n",
       "      <td>T0</td>\n",
       "      <td>17068385.T0.2-ALM-F-mjp-1.2.H</td>\n",
       "      <td>2-ALM-F-mjp-1.2.H</td>\n",
       "      <td>City (Flinders Street)</td>\n",
       "      <td>0</td>\n",
       "      <td>07:10:00</td>\n",
       "      <td>07:10:00</td>\n",
       "      <td>19843</td>\n",
       "      <td>14</td>\n",
       "      <td>NaN</td>\n",
       "      <td>0</td>\n",
       "      <td>0</td>\n",
       "      <td>14662.512611</td>\n",
       "    </tr>\n",
       "  </tbody>\n",
       "</table>\n",
       "</div>"
      ],
      "text/plain": [
       "        route_id service_id                        trip_id           shape_id  \\\n",
       "0  2-ALM-F-mjp-1         T0  17068385.T0.2-ALM-F-mjp-1.2.H  2-ALM-F-mjp-1.2.H   \n",
       "1  2-ALM-F-mjp-1         T0  17068385.T0.2-ALM-F-mjp-1.2.H  2-ALM-F-mjp-1.2.H   \n",
       "2  2-ALM-F-mjp-1         T0  17068385.T0.2-ALM-F-mjp-1.2.H  2-ALM-F-mjp-1.2.H   \n",
       "3  2-ALM-F-mjp-1         T0  17068385.T0.2-ALM-F-mjp-1.2.H  2-ALM-F-mjp-1.2.H   \n",
       "4  2-ALM-F-mjp-1         T0  17068385.T0.2-ALM-F-mjp-1.2.H  2-ALM-F-mjp-1.2.H   \n",
       "\n",
       "            trip_headsign  direction_id arrival_time departure_time  stop_id  \\\n",
       "0  City (Flinders Street)             0     07:00:00       07:00:00    19904   \n",
       "1  City (Flinders Street)             0     07:02:00       07:02:00    19905   \n",
       "2  City (Flinders Street)             0     07:04:00       07:04:00    19906   \n",
       "3  City (Flinders Street)             0     07:07:00       07:07:00    19908   \n",
       "4  City (Flinders Street)             0     07:10:00       07:10:00    19843   \n",
       "\n",
       "   stop_sequence  stop_headsign  pickup_type  drop_off_type  \\\n",
       "0              9            NaN            0              0   \n",
       "1             10            NaN            0              0   \n",
       "2             11            NaN            0              0   \n",
       "3             13            NaN            0              0   \n",
       "4             14            NaN            0              0   \n",
       "\n",
       "   shape_dist_traveled  \n",
       "0          8022.908868  \n",
       "1          9254.702211  \n",
       "2         10839.176110  \n",
       "3         12454.831566  \n",
       "4         14662.512611  "
      ]
     },
     "execution_count": 877,
     "metadata": {},
     "output_type": "execute_result"
    }
   ],
   "source": [
    "df_stop_trips_new.head()"
   ]
  },
  {
   "cell_type": "markdown",
   "metadata": {},
   "source": [
    "Filtering based on trip_headsign which tells us the last station details and the required one for the integration is city flinders street for further processing."
   ]
  },
  {
   "cell_type": "code",
   "execution_count": 878,
   "metadata": {},
   "outputs": [],
   "source": [
    "df_stop_trips_new = df_stop_trips_new[df_stop_trips_new.trip_headsign == 'City (Flinders Street)']"
   ]
  },
  {
   "cell_type": "code",
   "execution_count": 879,
   "metadata": {},
   "outputs": [
    {
     "data": {
      "text/html": [
       "<div>\n",
       "<style scoped>\n",
       "    .dataframe tbody tr th:only-of-type {\n",
       "        vertical-align: middle;\n",
       "    }\n",
       "\n",
       "    .dataframe tbody tr th {\n",
       "        vertical-align: top;\n",
       "    }\n",
       "\n",
       "    .dataframe thead th {\n",
       "        text-align: right;\n",
       "    }\n",
       "</style>\n",
       "<table border=\"1\" class=\"dataframe\">\n",
       "  <thead>\n",
       "    <tr style=\"text-align: right;\">\n",
       "      <th></th>\n",
       "      <th>route_id</th>\n",
       "      <th>service_id</th>\n",
       "      <th>trip_id</th>\n",
       "      <th>shape_id</th>\n",
       "      <th>trip_headsign</th>\n",
       "      <th>direction_id</th>\n",
       "      <th>arrival_time</th>\n",
       "      <th>departure_time</th>\n",
       "      <th>stop_id</th>\n",
       "      <th>stop_sequence</th>\n",
       "      <th>stop_headsign</th>\n",
       "      <th>pickup_type</th>\n",
       "      <th>drop_off_type</th>\n",
       "      <th>shape_dist_traveled</th>\n",
       "    </tr>\n",
       "  </thead>\n",
       "  <tbody>\n",
       "    <tr>\n",
       "      <th>0</th>\n",
       "      <td>2-ALM-F-mjp-1</td>\n",
       "      <td>T0</td>\n",
       "      <td>17068385.T0.2-ALM-F-mjp-1.2.H</td>\n",
       "      <td>2-ALM-F-mjp-1.2.H</td>\n",
       "      <td>City (Flinders Street)</td>\n",
       "      <td>0</td>\n",
       "      <td>07:00:00</td>\n",
       "      <td>07:00:00</td>\n",
       "      <td>19904</td>\n",
       "      <td>9</td>\n",
       "      <td>NaN</td>\n",
       "      <td>0</td>\n",
       "      <td>0</td>\n",
       "      <td>8022.908868</td>\n",
       "    </tr>\n",
       "    <tr>\n",
       "      <th>1</th>\n",
       "      <td>2-ALM-F-mjp-1</td>\n",
       "      <td>T0</td>\n",
       "      <td>17068385.T0.2-ALM-F-mjp-1.2.H</td>\n",
       "      <td>2-ALM-F-mjp-1.2.H</td>\n",
       "      <td>City (Flinders Street)</td>\n",
       "      <td>0</td>\n",
       "      <td>07:02:00</td>\n",
       "      <td>07:02:00</td>\n",
       "      <td>19905</td>\n",
       "      <td>10</td>\n",
       "      <td>NaN</td>\n",
       "      <td>0</td>\n",
       "      <td>0</td>\n",
       "      <td>9254.702211</td>\n",
       "    </tr>\n",
       "    <tr>\n",
       "      <th>2</th>\n",
       "      <td>2-ALM-F-mjp-1</td>\n",
       "      <td>T0</td>\n",
       "      <td>17068385.T0.2-ALM-F-mjp-1.2.H</td>\n",
       "      <td>2-ALM-F-mjp-1.2.H</td>\n",
       "      <td>City (Flinders Street)</td>\n",
       "      <td>0</td>\n",
       "      <td>07:04:00</td>\n",
       "      <td>07:04:00</td>\n",
       "      <td>19906</td>\n",
       "      <td>11</td>\n",
       "      <td>NaN</td>\n",
       "      <td>0</td>\n",
       "      <td>0</td>\n",
       "      <td>10839.176110</td>\n",
       "    </tr>\n",
       "    <tr>\n",
       "      <th>3</th>\n",
       "      <td>2-ALM-F-mjp-1</td>\n",
       "      <td>T0</td>\n",
       "      <td>17068385.T0.2-ALM-F-mjp-1.2.H</td>\n",
       "      <td>2-ALM-F-mjp-1.2.H</td>\n",
       "      <td>City (Flinders Street)</td>\n",
       "      <td>0</td>\n",
       "      <td>07:07:00</td>\n",
       "      <td>07:07:00</td>\n",
       "      <td>19908</td>\n",
       "      <td>13</td>\n",
       "      <td>NaN</td>\n",
       "      <td>0</td>\n",
       "      <td>0</td>\n",
       "      <td>12454.831566</td>\n",
       "    </tr>\n",
       "    <tr>\n",
       "      <th>4</th>\n",
       "      <td>2-ALM-F-mjp-1</td>\n",
       "      <td>T0</td>\n",
       "      <td>17068385.T0.2-ALM-F-mjp-1.2.H</td>\n",
       "      <td>2-ALM-F-mjp-1.2.H</td>\n",
       "      <td>City (Flinders Street)</td>\n",
       "      <td>0</td>\n",
       "      <td>07:10:00</td>\n",
       "      <td>07:10:00</td>\n",
       "      <td>19843</td>\n",
       "      <td>14</td>\n",
       "      <td>NaN</td>\n",
       "      <td>0</td>\n",
       "      <td>0</td>\n",
       "      <td>14662.512611</td>\n",
       "    </tr>\n",
       "  </tbody>\n",
       "</table>\n",
       "</div>"
      ],
      "text/plain": [
       "        route_id service_id                        trip_id           shape_id  \\\n",
       "0  2-ALM-F-mjp-1         T0  17068385.T0.2-ALM-F-mjp-1.2.H  2-ALM-F-mjp-1.2.H   \n",
       "1  2-ALM-F-mjp-1         T0  17068385.T0.2-ALM-F-mjp-1.2.H  2-ALM-F-mjp-1.2.H   \n",
       "2  2-ALM-F-mjp-1         T0  17068385.T0.2-ALM-F-mjp-1.2.H  2-ALM-F-mjp-1.2.H   \n",
       "3  2-ALM-F-mjp-1         T0  17068385.T0.2-ALM-F-mjp-1.2.H  2-ALM-F-mjp-1.2.H   \n",
       "4  2-ALM-F-mjp-1         T0  17068385.T0.2-ALM-F-mjp-1.2.H  2-ALM-F-mjp-1.2.H   \n",
       "\n",
       "            trip_headsign  direction_id arrival_time departure_time  stop_id  \\\n",
       "0  City (Flinders Street)             0     07:00:00       07:00:00    19904   \n",
       "1  City (Flinders Street)             0     07:02:00       07:02:00    19905   \n",
       "2  City (Flinders Street)             0     07:04:00       07:04:00    19906   \n",
       "3  City (Flinders Street)             0     07:07:00       07:07:00    19908   \n",
       "4  City (Flinders Street)             0     07:10:00       07:10:00    19843   \n",
       "\n",
       "   stop_sequence  stop_headsign  pickup_type  drop_off_type  \\\n",
       "0              9            NaN            0              0   \n",
       "1             10            NaN            0              0   \n",
       "2             11            NaN            0              0   \n",
       "3             13            NaN            0              0   \n",
       "4             14            NaN            0              0   \n",
       "\n",
       "   shape_dist_traveled  \n",
       "0          8022.908868  \n",
       "1          9254.702211  \n",
       "2         10839.176110  \n",
       "3         12454.831566  \n",
       "4         14662.512611  "
      ]
     },
     "execution_count": 879,
     "metadata": {},
     "output_type": "execute_result"
    }
   ],
   "source": [
    "df_stop_trips_new.head()"
   ]
  },
  {
   "cell_type": "code",
   "execution_count": 880,
   "metadata": {},
   "outputs": [
    {
     "data": {
      "text/html": [
       "<div>\n",
       "<style scoped>\n",
       "    .dataframe tbody tr th:only-of-type {\n",
       "        vertical-align: middle;\n",
       "    }\n",
       "\n",
       "    .dataframe tbody tr th {\n",
       "        vertical-align: top;\n",
       "    }\n",
       "\n",
       "    .dataframe thead th {\n",
       "        text-align: right;\n",
       "    }\n",
       "</style>\n",
       "<table border=\"1\" class=\"dataframe\">\n",
       "  <thead>\n",
       "    <tr style=\"text-align: right;\">\n",
       "      <th></th>\n",
       "      <th>stop_id</th>\n",
       "      <th>stop_name</th>\n",
       "      <th>stop_short_name</th>\n",
       "      <th>stop_lat</th>\n",
       "      <th>stop_lon</th>\n",
       "    </tr>\n",
       "  </thead>\n",
       "  <tbody>\n",
       "    <tr>\n",
       "      <th>29</th>\n",
       "      <td>19854</td>\n",
       "      <td>Flinders Street Railway Station</td>\n",
       "      <td>Melbourne City</td>\n",
       "      <td>-37.818305</td>\n",
       "      <td>144.966964</td>\n",
       "    </tr>\n",
       "  </tbody>\n",
       "</table>\n",
       "</div>"
      ],
      "text/plain": [
       "    stop_id                        stop_name stop_short_name   stop_lat  \\\n",
       "29    19854  Flinders Street Railway Station  Melbourne City -37.818305   \n",
       "\n",
       "      stop_lon  \n",
       "29  144.966964  "
      ]
     },
     "execution_count": 880,
     "metadata": {},
     "output_type": "execute_result"
    }
   ],
   "source": [
    "df_stops[df_stops.stop_name =='Flinders Street Railway Station']"
   ]
  },
  {
   "cell_type": "markdown",
   "metadata": {},
   "source": [
    "We further divide the data into two parts i.e. the flinders stop and not flinders stop to get a data frame for trips made to flinders and average time of each trip."
   ]
  },
  {
   "cell_type": "code",
   "execution_count": 881,
   "metadata": {},
   "outputs": [],
   "source": [
    "df_flind = df_stop_trips_new[df_stop_trips_new.stop_id == 19854]\n",
    "df_not_flind = df_stop_trips_new[df_stop_trips_new.stop_id != 19854]"
   ]
  },
  {
   "cell_type": "code",
   "execution_count": 882,
   "metadata": {},
   "outputs": [],
   "source": [
    "#\n",
    "df_merged_flind = df_not_flind.merge(df_flind, left_on='trip_id', right_on='trip_id', how='inner')"
   ]
  },
  {
   "cell_type": "code",
   "execution_count": 883,
   "metadata": {
    "scrolled": true
   },
   "outputs": [
    {
     "data": {
      "text/html": [
       "<div>\n",
       "<style scoped>\n",
       "    .dataframe tbody tr th:only-of-type {\n",
       "        vertical-align: middle;\n",
       "    }\n",
       "\n",
       "    .dataframe tbody tr th {\n",
       "        vertical-align: top;\n",
       "    }\n",
       "\n",
       "    .dataframe thead th {\n",
       "        text-align: right;\n",
       "    }\n",
       "</style>\n",
       "<table border=\"1\" class=\"dataframe\">\n",
       "  <thead>\n",
       "    <tr style=\"text-align: right;\">\n",
       "      <th></th>\n",
       "      <th>route_id_x</th>\n",
       "      <th>service_id_x</th>\n",
       "      <th>trip_id</th>\n",
       "      <th>shape_id_x</th>\n",
       "      <th>trip_headsign_x</th>\n",
       "      <th>direction_id_x</th>\n",
       "      <th>arrival_time_x</th>\n",
       "      <th>departure_time_x</th>\n",
       "      <th>stop_id_x</th>\n",
       "      <th>stop_sequence_x</th>\n",
       "      <th>...</th>\n",
       "      <th>trip_headsign_y</th>\n",
       "      <th>direction_id_y</th>\n",
       "      <th>arrival_time_y</th>\n",
       "      <th>departure_time_y</th>\n",
       "      <th>stop_id_y</th>\n",
       "      <th>stop_sequence_y</th>\n",
       "      <th>stop_headsign_y</th>\n",
       "      <th>pickup_type_y</th>\n",
       "      <th>drop_off_type_y</th>\n",
       "      <th>shape_dist_traveled_y</th>\n",
       "    </tr>\n",
       "  </thead>\n",
       "  <tbody>\n",
       "    <tr>\n",
       "      <th>0</th>\n",
       "      <td>2-ALM-F-mjp-1</td>\n",
       "      <td>T0</td>\n",
       "      <td>17068385.T0.2-ALM-F-mjp-1.2.H</td>\n",
       "      <td>2-ALM-F-mjp-1.2.H</td>\n",
       "      <td>City (Flinders Street)</td>\n",
       "      <td>0</td>\n",
       "      <td>07:00:00</td>\n",
       "      <td>07:00:00</td>\n",
       "      <td>19904</td>\n",
       "      <td>9</td>\n",
       "      <td>...</td>\n",
       "      <td>City (Flinders Street)</td>\n",
       "      <td>0</td>\n",
       "      <td>07:20:00</td>\n",
       "      <td>07:20:00</td>\n",
       "      <td>19854</td>\n",
       "      <td>18</td>\n",
       "      <td>NaN</td>\n",
       "      <td>0</td>\n",
       "      <td>0</td>\n",
       "      <td>19128.315379</td>\n",
       "    </tr>\n",
       "    <tr>\n",
       "      <th>1</th>\n",
       "      <td>2-ALM-F-mjp-1</td>\n",
       "      <td>T0</td>\n",
       "      <td>17068385.T0.2-ALM-F-mjp-1.2.H</td>\n",
       "      <td>2-ALM-F-mjp-1.2.H</td>\n",
       "      <td>City (Flinders Street)</td>\n",
       "      <td>0</td>\n",
       "      <td>07:02:00</td>\n",
       "      <td>07:02:00</td>\n",
       "      <td>19905</td>\n",
       "      <td>10</td>\n",
       "      <td>...</td>\n",
       "      <td>City (Flinders Street)</td>\n",
       "      <td>0</td>\n",
       "      <td>07:20:00</td>\n",
       "      <td>07:20:00</td>\n",
       "      <td>19854</td>\n",
       "      <td>18</td>\n",
       "      <td>NaN</td>\n",
       "      <td>0</td>\n",
       "      <td>0</td>\n",
       "      <td>19128.315379</td>\n",
       "    </tr>\n",
       "    <tr>\n",
       "      <th>2</th>\n",
       "      <td>2-ALM-F-mjp-1</td>\n",
       "      <td>T0</td>\n",
       "      <td>17068385.T0.2-ALM-F-mjp-1.2.H</td>\n",
       "      <td>2-ALM-F-mjp-1.2.H</td>\n",
       "      <td>City (Flinders Street)</td>\n",
       "      <td>0</td>\n",
       "      <td>07:04:00</td>\n",
       "      <td>07:04:00</td>\n",
       "      <td>19906</td>\n",
       "      <td>11</td>\n",
       "      <td>...</td>\n",
       "      <td>City (Flinders Street)</td>\n",
       "      <td>0</td>\n",
       "      <td>07:20:00</td>\n",
       "      <td>07:20:00</td>\n",
       "      <td>19854</td>\n",
       "      <td>18</td>\n",
       "      <td>NaN</td>\n",
       "      <td>0</td>\n",
       "      <td>0</td>\n",
       "      <td>19128.315379</td>\n",
       "    </tr>\n",
       "    <tr>\n",
       "      <th>3</th>\n",
       "      <td>2-ALM-F-mjp-1</td>\n",
       "      <td>T0</td>\n",
       "      <td>17068385.T0.2-ALM-F-mjp-1.2.H</td>\n",
       "      <td>2-ALM-F-mjp-1.2.H</td>\n",
       "      <td>City (Flinders Street)</td>\n",
       "      <td>0</td>\n",
       "      <td>07:07:00</td>\n",
       "      <td>07:07:00</td>\n",
       "      <td>19908</td>\n",
       "      <td>13</td>\n",
       "      <td>...</td>\n",
       "      <td>City (Flinders Street)</td>\n",
       "      <td>0</td>\n",
       "      <td>07:20:00</td>\n",
       "      <td>07:20:00</td>\n",
       "      <td>19854</td>\n",
       "      <td>18</td>\n",
       "      <td>NaN</td>\n",
       "      <td>0</td>\n",
       "      <td>0</td>\n",
       "      <td>19128.315379</td>\n",
       "    </tr>\n",
       "    <tr>\n",
       "      <th>4</th>\n",
       "      <td>2-ALM-F-mjp-1</td>\n",
       "      <td>T0</td>\n",
       "      <td>17068385.T0.2-ALM-F-mjp-1.2.H</td>\n",
       "      <td>2-ALM-F-mjp-1.2.H</td>\n",
       "      <td>City (Flinders Street)</td>\n",
       "      <td>0</td>\n",
       "      <td>07:10:00</td>\n",
       "      <td>07:10:00</td>\n",
       "      <td>19843</td>\n",
       "      <td>14</td>\n",
       "      <td>...</td>\n",
       "      <td>City (Flinders Street)</td>\n",
       "      <td>0</td>\n",
       "      <td>07:20:00</td>\n",
       "      <td>07:20:00</td>\n",
       "      <td>19854</td>\n",
       "      <td>18</td>\n",
       "      <td>NaN</td>\n",
       "      <td>0</td>\n",
       "      <td>0</td>\n",
       "      <td>19128.315379</td>\n",
       "    </tr>\n",
       "  </tbody>\n",
       "</table>\n",
       "<p>5 rows × 27 columns</p>\n",
       "</div>"
      ],
      "text/plain": [
       "      route_id_x service_id_x                        trip_id  \\\n",
       "0  2-ALM-F-mjp-1           T0  17068385.T0.2-ALM-F-mjp-1.2.H   \n",
       "1  2-ALM-F-mjp-1           T0  17068385.T0.2-ALM-F-mjp-1.2.H   \n",
       "2  2-ALM-F-mjp-1           T0  17068385.T0.2-ALM-F-mjp-1.2.H   \n",
       "3  2-ALM-F-mjp-1           T0  17068385.T0.2-ALM-F-mjp-1.2.H   \n",
       "4  2-ALM-F-mjp-1           T0  17068385.T0.2-ALM-F-mjp-1.2.H   \n",
       "\n",
       "          shape_id_x         trip_headsign_x  direction_id_x arrival_time_x  \\\n",
       "0  2-ALM-F-mjp-1.2.H  City (Flinders Street)               0       07:00:00   \n",
       "1  2-ALM-F-mjp-1.2.H  City (Flinders Street)               0       07:02:00   \n",
       "2  2-ALM-F-mjp-1.2.H  City (Flinders Street)               0       07:04:00   \n",
       "3  2-ALM-F-mjp-1.2.H  City (Flinders Street)               0       07:07:00   \n",
       "4  2-ALM-F-mjp-1.2.H  City (Flinders Street)               0       07:10:00   \n",
       "\n",
       "  departure_time_x  stop_id_x  stop_sequence_x  ...         trip_headsign_y  \\\n",
       "0         07:00:00      19904                9  ...  City (Flinders Street)   \n",
       "1         07:02:00      19905               10  ...  City (Flinders Street)   \n",
       "2         07:04:00      19906               11  ...  City (Flinders Street)   \n",
       "3         07:07:00      19908               13  ...  City (Flinders Street)   \n",
       "4         07:10:00      19843               14  ...  City (Flinders Street)   \n",
       "\n",
       "   direction_id_y  arrival_time_y  departure_time_y stop_id_y stop_sequence_y  \\\n",
       "0               0        07:20:00          07:20:00     19854              18   \n",
       "1               0        07:20:00          07:20:00     19854              18   \n",
       "2               0        07:20:00          07:20:00     19854              18   \n",
       "3               0        07:20:00          07:20:00     19854              18   \n",
       "4               0        07:20:00          07:20:00     19854              18   \n",
       "\n",
       "  stop_headsign_y pickup_type_y  drop_off_type_y shape_dist_traveled_y  \n",
       "0             NaN             0                0          19128.315379  \n",
       "1             NaN             0                0          19128.315379  \n",
       "2             NaN             0                0          19128.315379  \n",
       "3             NaN             0                0          19128.315379  \n",
       "4             NaN             0                0          19128.315379  \n",
       "\n",
       "[5 rows x 27 columns]"
      ]
     },
     "execution_count": 883,
     "metadata": {},
     "output_type": "execute_result"
    }
   ],
   "source": [
    "df_merged_flind.head()"
   ]
  },
  {
   "cell_type": "markdown",
   "metadata": {},
   "source": [
    "Get the time in minutes for further calculation of the average time."
   ]
  },
  {
   "cell_type": "code",
   "execution_count": 884,
   "metadata": {},
   "outputs": [],
   "source": [
    "df_merged_flind['arrival_time_x'] = df_merged_flind['arrival_time_x'].astype(str)\n",
    "df_merged_flind['departure_time_y'] = df_merged_flind['departure_time_y'].astype(str)\n",
    "def time_hours(time_str):\n",
    "    hr, mi, se = time_str.split(':')\n",
    "    return int(hr)*60 + int(mi) + int(se)/60"
   ]
  },
  {
   "cell_type": "code",
   "execution_count": 885,
   "metadata": {},
   "outputs": [],
   "source": [
    "df_merged_flind['arrival_time_x'] = df_merged_flind['arrival_time_x'].apply(lambda x : time_hours(x))\n",
    "df_merged_flind['departure_time_y'] = df_merged_flind['departure_time_y'].apply(lambda x : time_hours(x))"
   ]
  },
  {
   "cell_type": "code",
   "execution_count": 886,
   "metadata": {},
   "outputs": [],
   "source": [
    "df_merged_flind['duration'] = df_merged_flind.departure_time_y - df_merged_flind.arrival_time_x"
   ]
  },
  {
   "cell_type": "code",
   "execution_count": 887,
   "metadata": {},
   "outputs": [],
   "source": [
    "df_merged_flind = df_merged_flind[df_merged_flind.duration > 0]"
   ]
  },
  {
   "cell_type": "markdown",
   "metadata": {},
   "source": [
    "Taking out the average time for every station by grouping them on station id and average of duration as calculated above."
   ]
  },
  {
   "cell_type": "code",
   "execution_count": 888,
   "metadata": {},
   "outputs": [],
   "source": [
    "df_avg_times = pd.DataFrame(df_merged_flind.groupby(['stop_id_x'])['duration'].mean())"
   ]
  },
  {
   "cell_type": "code",
   "execution_count": 889,
   "metadata": {},
   "outputs": [
    {
     "data": {
      "text/html": [
       "<div>\n",
       "<style scoped>\n",
       "    .dataframe tbody tr th:only-of-type {\n",
       "        vertical-align: middle;\n",
       "    }\n",
       "\n",
       "    .dataframe tbody tr th {\n",
       "        vertical-align: top;\n",
       "    }\n",
       "\n",
       "    .dataframe thead th {\n",
       "        text-align: right;\n",
       "    }\n",
       "</style>\n",
       "<table border=\"1\" class=\"dataframe\">\n",
       "  <thead>\n",
       "    <tr style=\"text-align: right;\">\n",
       "      <th></th>\n",
       "      <th>duration</th>\n",
       "    </tr>\n",
       "    <tr>\n",
       "      <th>stop_id_x</th>\n",
       "      <th></th>\n",
       "    </tr>\n",
       "  </thead>\n",
       "  <tbody>\n",
       "    <tr>\n",
       "      <th>15351</th>\n",
       "      <td>50.0</td>\n",
       "    </tr>\n",
       "    <tr>\n",
       "      <th>15353</th>\n",
       "      <td>46.0</td>\n",
       "    </tr>\n",
       "    <tr>\n",
       "      <th>19835</th>\n",
       "      <td>19.0</td>\n",
       "    </tr>\n",
       "    <tr>\n",
       "      <th>19837</th>\n",
       "      <td>21.0</td>\n",
       "    </tr>\n",
       "    <tr>\n",
       "      <th>19838</th>\n",
       "      <td>23.0</td>\n",
       "    </tr>\n",
       "  </tbody>\n",
       "</table>\n",
       "</div>"
      ],
      "text/plain": [
       "           duration\n",
       "stop_id_x          \n",
       "15351          50.0\n",
       "15353          46.0\n",
       "19835          19.0\n",
       "19837          21.0\n",
       "19838          23.0"
      ]
     },
     "execution_count": 889,
     "metadata": {},
     "output_type": "execute_result"
    }
   ],
   "source": [
    "df_avg_times.head()"
   ]
  },
  {
   "cell_type": "markdown",
   "metadata": {},
   "source": [
    "Further imputing the corresponding average time for every station in the main data frame retrievd from the df_avg_times dataframe."
   ]
  },
  {
   "cell_type": "code",
   "execution_count": 890,
   "metadata": {},
   "outputs": [],
   "source": [
    "df_real = df_real.merge(df_avg_times, left_on= 'Train_station_id', right_on='stop_id_x', how='left')"
   ]
  },
  {
   "cell_type": "code",
   "execution_count": 891,
   "metadata": {},
   "outputs": [
    {
     "data": {
      "text/html": [
       "<div>\n",
       "<style scoped>\n",
       "    .dataframe tbody tr th:only-of-type {\n",
       "        vertical-align: middle;\n",
       "    }\n",
       "\n",
       "    .dataframe tbody tr th {\n",
       "        vertical-align: top;\n",
       "    }\n",
       "\n",
       "    .dataframe thead th {\n",
       "        text-align: right;\n",
       "    }\n",
       "</style>\n",
       "<table border=\"1\" class=\"dataframe\">\n",
       "  <thead>\n",
       "    <tr style=\"text-align: right;\">\n",
       "      <th></th>\n",
       "      <th>property_id</th>\n",
       "      <th>lat</th>\n",
       "      <th>lng</th>\n",
       "      <th>addr_street</th>\n",
       "      <th>Suburb</th>\n",
       "      <th>price</th>\n",
       "      <th>property_type</th>\n",
       "      <th>year</th>\n",
       "      <th>bedrooms</th>\n",
       "      <th>bathrooms</th>\n",
       "      <th>...</th>\n",
       "      <th>Distance_to_sc</th>\n",
       "      <th>Train_station_id</th>\n",
       "      <th>Distance_to_train_station</th>\n",
       "      <th>travel_min_to_CBD</th>\n",
       "      <th>Transfer_flag</th>\n",
       "      <th>Hospital_id</th>\n",
       "      <th>Distance_to_hospital</th>\n",
       "      <th>Supermarket_id</th>\n",
       "      <th>Distance_to_supermaket</th>\n",
       "      <th>duration</th>\n",
       "    </tr>\n",
       "  </thead>\n",
       "  <tbody>\n",
       "    <tr>\n",
       "      <th>0</th>\n",
       "      <td>68741</td>\n",
       "      <td>-37.856149</td>\n",
       "      <td>145.037211</td>\n",
       "      <td>11 Eva Street</td>\n",
       "      <td>MALVERN</td>\n",
       "      <td>15720000</td>\n",
       "      <td>house</td>\n",
       "      <td>2014</td>\n",
       "      <td>3</td>\n",
       "      <td>1</td>\n",
       "      <td>...</td>\n",
       "      <td>2286.42</td>\n",
       "      <td>19911</td>\n",
       "      <td>853.36</td>\n",
       "      <td>0</td>\n",
       "      <td>-1</td>\n",
       "      <td>hospital_157</td>\n",
       "      <td>825.69</td>\n",
       "      <td>S_235</td>\n",
       "      <td>856.23</td>\n",
       "      <td>15.000000</td>\n",
       "    </tr>\n",
       "    <tr>\n",
       "      <th>1</th>\n",
       "      <td>19266</td>\n",
       "      <td>-37.669824</td>\n",
       "      <td>144.933401</td>\n",
       "      <td>9 Morwell Crescent</td>\n",
       "      <td>DALLAS</td>\n",
       "      <td>2224000</td>\n",
       "      <td>house</td>\n",
       "      <td>2012</td>\n",
       "      <td>3</td>\n",
       "      <td>1</td>\n",
       "      <td>...</td>\n",
       "      <td>2340.32</td>\n",
       "      <td>44817</td>\n",
       "      <td>1176.11</td>\n",
       "      <td>0</td>\n",
       "      <td>-1</td>\n",
       "      <td>hospital_104</td>\n",
       "      <td>2417.13</td>\n",
       "      <td>S_153</td>\n",
       "      <td>1385.14</td>\n",
       "      <td>39.900000</td>\n",
       "    </tr>\n",
       "    <tr>\n",
       "      <th>2</th>\n",
       "      <td>3063</td>\n",
       "      <td>-37.815887</td>\n",
       "      <td>144.888282</td>\n",
       "      <td>20 Canterbury Street</td>\n",
       "      <td>YARRAVILLE</td>\n",
       "      <td>15540000</td>\n",
       "      <td>house</td>\n",
       "      <td>2012</td>\n",
       "      <td>3</td>\n",
       "      <td>2</td>\n",
       "      <td>...</td>\n",
       "      <td>3415.81</td>\n",
       "      <td>19996</td>\n",
       "      <td>145.31</td>\n",
       "      <td>0</td>\n",
       "      <td>-1</td>\n",
       "      <td>hospital_056</td>\n",
       "      <td>2539.63</td>\n",
       "      <td>S_201</td>\n",
       "      <td>1890.05</td>\n",
       "      <td>15.300000</td>\n",
       "    </tr>\n",
       "    <tr>\n",
       "      <th>3</th>\n",
       "      <td>1685</td>\n",
       "      <td>-37.808658</td>\n",
       "      <td>144.883991</td>\n",
       "      <td>112 Williamstown Road</td>\n",
       "      <td>KINGSVILLE</td>\n",
       "      <td>9600000</td>\n",
       "      <td>house</td>\n",
       "      <td>2015</td>\n",
       "      <td>3</td>\n",
       "      <td>1</td>\n",
       "      <td>...</td>\n",
       "      <td>2588.12</td>\n",
       "      <td>20023</td>\n",
       "      <td>771.42</td>\n",
       "      <td>0</td>\n",
       "      <td>-1</td>\n",
       "      <td>hospital_056</td>\n",
       "      <td>1739.16</td>\n",
       "      <td>S_201</td>\n",
       "      <td>1515.19</td>\n",
       "      <td>19.750000</td>\n",
       "    </tr>\n",
       "    <tr>\n",
       "      <th>4</th>\n",
       "      <td>45135</td>\n",
       "      <td>-37.707832</td>\n",
       "      <td>145.088287</td>\n",
       "      <td>468 Greensborough Road</td>\n",
       "      <td>GREENSBOROUGH</td>\n",
       "      <td>5715000</td>\n",
       "      <td>house</td>\n",
       "      <td>2015</td>\n",
       "      <td>5</td>\n",
       "      <td>3</td>\n",
       "      <td>...</td>\n",
       "      <td>5612.04</td>\n",
       "      <td>19984</td>\n",
       "      <td>526.96</td>\n",
       "      <td>0</td>\n",
       "      <td>-1</td>\n",
       "      <td>hospital_075</td>\n",
       "      <td>1577.20</td>\n",
       "      <td>S_020</td>\n",
       "      <td>1094.48</td>\n",
       "      <td>34.636364</td>\n",
       "    </tr>\n",
       "  </tbody>\n",
       "</table>\n",
       "<p>5 rows × 22 columns</p>\n",
       "</div>"
      ],
      "text/plain": [
       "   property_id        lat         lng             addr_street         Suburb  \\\n",
       "0        68741 -37.856149  145.037211           11 Eva Street        MALVERN   \n",
       "1        19266 -37.669824  144.933401      9 Morwell Crescent         DALLAS   \n",
       "2         3063 -37.815887  144.888282    20 Canterbury Street     YARRAVILLE   \n",
       "3         1685 -37.808658  144.883991   112 Williamstown Road     KINGSVILLE   \n",
       "4        45135 -37.707832  145.088287  468 Greensborough Road  GREENSBOROUGH   \n",
       "\n",
       "      price property_type  year  bedrooms  bathrooms  ...  Distance_to_sc  \\\n",
       "0  15720000         house  2014         3          1  ...         2286.42   \n",
       "1   2224000         house  2012         3          1  ...         2340.32   \n",
       "2  15540000         house  2012         3          2  ...         3415.81   \n",
       "3   9600000         house  2015         3          1  ...         2588.12   \n",
       "4   5715000         house  2015         5          3  ...         5612.04   \n",
       "\n",
       "  Train_station_id  Distance_to_train_station  travel_min_to_CBD  \\\n",
       "0            19911                     853.36                  0   \n",
       "1            44817                    1176.11                  0   \n",
       "2            19996                     145.31                  0   \n",
       "3            20023                     771.42                  0   \n",
       "4            19984                     526.96                  0   \n",
       "\n",
       "   Transfer_flag   Hospital_id  Distance_to_hospital Supermarket_id  \\\n",
       "0             -1  hospital_157                825.69          S_235   \n",
       "1             -1  hospital_104               2417.13          S_153   \n",
       "2             -1  hospital_056               2539.63          S_201   \n",
       "3             -1  hospital_056               1739.16          S_201   \n",
       "4             -1  hospital_075               1577.20          S_020   \n",
       "\n",
       "   Distance_to_supermaket   duration  \n",
       "0                  856.23  15.000000  \n",
       "1                 1385.14  39.900000  \n",
       "2                 1890.05  15.300000  \n",
       "3                 1515.19  19.750000  \n",
       "4                 1094.48  34.636364  \n",
       "\n",
       "[5 rows x 22 columns]"
      ]
     },
     "execution_count": 891,
     "metadata": {},
     "output_type": "execute_result"
    }
   ],
   "source": [
    "df_real.head()"
   ]
  },
  {
   "cell_type": "code",
   "execution_count": 892,
   "metadata": {},
   "outputs": [
    {
     "data": {
      "text/plain": [
       "(1980, 22)"
      ]
     },
     "execution_count": 892,
     "metadata": {},
     "output_type": "execute_result"
    }
   ],
   "source": [
    "df_real.travel_min_to_CBD = round(df_real.duration,2)\n",
    "df_real = df_real.dropna(how='any')\n",
    "df_real.shape"
   ]
  },
  {
   "cell_type": "code",
   "execution_count": null,
   "metadata": {},
   "outputs": [],
   "source": []
  },
  {
   "cell_type": "markdown",
   "metadata": {},
   "source": [
    "## Transfer_flag imputation\n",
    "\n",
    "This flag is 0 if there is a direct trip (i.e. no transfer between trains is required to get from the closest train station to the Flinders station) and 1 otherwise. ​Default value: -1"
   ]
  },
  {
   "cell_type": "code",
   "execution_count": 893,
   "metadata": {},
   "outputs": [
    {
     "data": {
      "text/plain": [
       "Index(['property_id', 'lat', 'lng', 'addr_street', 'Suburb', 'price',\n",
       "       'property_type', 'year', 'bedrooms', 'bathrooms', 'parking_space',\n",
       "       'Shopping_center_id', 'Distance_to_sc', 'Train_station_id',\n",
       "       'Distance_to_train_station', 'travel_min_to_CBD', 'Transfer_flag',\n",
       "       'Hospital_id', 'Distance_to_hospital', 'Supermarket_id',\n",
       "       'Distance_to_supermaket', 'duration'],\n",
       "      dtype='object')"
      ]
     },
     "execution_count": 893,
     "metadata": {},
     "output_type": "execute_result"
    }
   ],
   "source": [
    "df_real.columns"
   ]
  },
  {
   "cell_type": "code",
   "execution_count": 894,
   "metadata": {},
   "outputs": [],
   "source": [
    "flinders_dir_lis = list(df_stop_trips_new['stop_id'])\n",
    "#check_st_id = list(df_2[['Train_station_id']])\n",
    "for (index, row) in df_real.iterrows():\n",
    "    i = row['Train_station_id']\n",
    "    if i in flinders_dir_lis:\n",
    "        df_real.loc[index,'Transfer_flag'] = 0\n",
    "    else:\n",
    "        df_real.loc[index,'Transfer_flag'] = 1"
   ]
  },
  {
   "cell_type": "markdown",
   "metadata": {},
   "source": [
    "### Creating final csv usnig above dataframe"
   ]
  },
  {
   "cell_type": "code",
   "execution_count": 895,
   "metadata": {},
   "outputs": [],
   "source": [
    "del df_real['duration']\n",
    "df_real.to_csv('30145945_A3_solution.csv', index = False)"
   ]
  },
  {
   "cell_type": "code",
   "execution_count": null,
   "metadata": {},
   "outputs": [],
   "source": []
  },
  {
   "cell_type": "markdown",
   "metadata": {},
   "source": [
    "# Task 2: Data reshaping \n",
    "\n",
    "In this task, you need to study the effect of different normalization/transformation methods (i.e. standardization, minmax normalization, log, power, box-cox transformation) on the ​“price”​, “Distance_to_sc”, “travel_min_to_CBD”​, and ​“Distance_to_hospital” attributes and observe and explain their effect assuming ​we want to develop a linear model to predict the “price” using “Distance_to_sc”, “travel_min_to_CBD”, and “Distance_to_hospital” attributes​.\n"
   ]
  },
  {
   "cell_type": "code",
   "execution_count": 896,
   "metadata": {},
   "outputs": [
    {
     "data": {
      "text/html": [
       "<div>\n",
       "<style scoped>\n",
       "    .dataframe tbody tr th:only-of-type {\n",
       "        vertical-align: middle;\n",
       "    }\n",
       "\n",
       "    .dataframe tbody tr th {\n",
       "        vertical-align: top;\n",
       "    }\n",
       "\n",
       "    .dataframe thead th {\n",
       "        text-align: right;\n",
       "    }\n",
       "</style>\n",
       "<table border=\"1\" class=\"dataframe\">\n",
       "  <thead>\n",
       "    <tr style=\"text-align: right;\">\n",
       "      <th></th>\n",
       "      <th>price</th>\n",
       "      <th>Distance_to_sc</th>\n",
       "      <th>travel_min_to_CBD</th>\n",
       "      <th>Distance_to_hospital</th>\n",
       "    </tr>\n",
       "  </thead>\n",
       "  <tbody>\n",
       "    <tr>\n",
       "      <th>count</th>\n",
       "      <td>1.980000e+03</td>\n",
       "      <td>1980.000000</td>\n",
       "      <td>1980.000000</td>\n",
       "      <td>1980.000000</td>\n",
       "    </tr>\n",
       "    <tr>\n",
       "      <th>mean</th>\n",
       "      <td>9.174688e+06</td>\n",
       "      <td>2547.974045</td>\n",
       "      <td>34.091369</td>\n",
       "      <td>2210.477732</td>\n",
       "    </tr>\n",
       "    <tr>\n",
       "      <th>std</th>\n",
       "      <td>5.845341e+06</td>\n",
       "      <td>1364.016442</td>\n",
       "      <td>12.387497</td>\n",
       "      <td>1755.311611</td>\n",
       "    </tr>\n",
       "    <tr>\n",
       "      <th>min</th>\n",
       "      <td>1.644500e+06</td>\n",
       "      <td>110.710000</td>\n",
       "      <td>4.510000</td>\n",
       "      <td>69.150000</td>\n",
       "    </tr>\n",
       "    <tr>\n",
       "      <th>25%</th>\n",
       "      <td>5.333000e+06</td>\n",
       "      <td>1474.455000</td>\n",
       "      <td>23.850000</td>\n",
       "      <td>1035.782500</td>\n",
       "    </tr>\n",
       "    <tr>\n",
       "      <th>50%</th>\n",
       "      <td>7.601000e+06</td>\n",
       "      <td>2273.380000</td>\n",
       "      <td>34.640000</td>\n",
       "      <td>1696.190000</td>\n",
       "    </tr>\n",
       "    <tr>\n",
       "      <th>75%</th>\n",
       "      <td>1.120950e+07</td>\n",
       "      <td>3456.815000</td>\n",
       "      <td>42.350000</td>\n",
       "      <td>2781.722500</td>\n",
       "    </tr>\n",
       "    <tr>\n",
       "      <th>max</th>\n",
       "      <td>4.624000e+07</td>\n",
       "      <td>5958.830000</td>\n",
       "      <td>61.000000</td>\n",
       "      <td>9360.010000</td>\n",
       "    </tr>\n",
       "  </tbody>\n",
       "</table>\n",
       "</div>"
      ],
      "text/plain": [
       "              price  Distance_to_sc  travel_min_to_CBD  Distance_to_hospital\n",
       "count  1.980000e+03     1980.000000        1980.000000           1980.000000\n",
       "mean   9.174688e+06     2547.974045          34.091369           2210.477732\n",
       "std    5.845341e+06     1364.016442          12.387497           1755.311611\n",
       "min    1.644500e+06      110.710000           4.510000             69.150000\n",
       "25%    5.333000e+06     1474.455000          23.850000           1035.782500\n",
       "50%    7.601000e+06     2273.380000          34.640000           1696.190000\n",
       "75%    1.120950e+07     3456.815000          42.350000           2781.722500\n",
       "max    4.624000e+07     5958.830000          61.000000           9360.010000"
      ]
     },
     "execution_count": 896,
     "metadata": {},
     "output_type": "execute_result"
    }
   ],
   "source": [
    "reshape_df=df_real[['price', 'Distance_to_sc', 'travel_min_to_CBD', 'Distance_to_hospital']].copy()\n",
    "reshape_df.reset_index(inplace=True)\n",
    "reshape_df = reshape_df.drop('index', axis=1)\n",
    "reshape_df.describe()\n"
   ]
  },
  {
   "cell_type": "markdown",
   "metadata": {},
   "source": [
    "On comparison of the mean and standard deviation of each columns and after observing the values, we know that the scale of `Distance_to_sc`, `travel_min_to_CBD` and `Distance_to_hospital` vary. In order to prevent there from being bias towards any of these variables and in order to make sure that they all have equal weightage, we need to Normalize the data. We will consider the effect of different types of normalization and transformation on the data.\n",
    "\n",
    "\n",
    "## Standardization\n",
    "\n",
    "- Variables that are measured at different scales do not contribute equally to the model fitting & model learned function and might end up creating a bias. \n",
    "- Thus, to deal with this potential problem feature-wise standardized (μ=0, σ=1) is usually used prior to model fitting."
   ]
  },
  {
   "cell_type": "code",
   "execution_count": 897,
   "metadata": {},
   "outputs": [
    {
     "data": {
      "text/plain": [
       "array([[-0.19180129, -1.54156982, -0.78911206],\n",
       "       [-0.15227566,  0.46902927,  0.11775942],\n",
       "       [ 0.63639643, -1.51734574,  0.18756523],\n",
       "       [ 0.0294396 , -1.1580218 , -0.26857727],\n",
       "       [ 2.24692306,  0.04430031, -0.36086909]])"
      ]
     },
     "execution_count": 897,
     "metadata": {},
     "output_type": "execute_result"
    }
   ],
   "source": [
    "std_scale = preprocessing.StandardScaler().fit_transform(reshape_df[['Distance_to_sc','travel_min_to_CBD', 'Distance_to_hospital']])\n",
    "std_scale[0:5]"
   ]
  },
  {
   "cell_type": "code",
   "execution_count": 898,
   "metadata": {},
   "outputs": [
    {
     "data": {
      "text/html": [
       "<div>\n",
       "<style scoped>\n",
       "    .dataframe tbody tr th:only-of-type {\n",
       "        vertical-align: middle;\n",
       "    }\n",
       "\n",
       "    .dataframe tbody tr th {\n",
       "        vertical-align: top;\n",
       "    }\n",
       "\n",
       "    .dataframe thead th {\n",
       "        text-align: right;\n",
       "    }\n",
       "</style>\n",
       "<table border=\"1\" class=\"dataframe\">\n",
       "  <thead>\n",
       "    <tr style=\"text-align: right;\">\n",
       "      <th></th>\n",
       "      <th>price</th>\n",
       "      <th>Distance_to_sc</th>\n",
       "      <th>travel_min_to_CBD</th>\n",
       "      <th>Distance_to_hospital</th>\n",
       "      <th>d_c_scaled</th>\n",
       "      <th>t_cbd_scaled</th>\n",
       "      <th>D_h_scaled</th>\n",
       "    </tr>\n",
       "  </thead>\n",
       "  <tbody>\n",
       "    <tr>\n",
       "      <th>0</th>\n",
       "      <td>15720000</td>\n",
       "      <td>2286.42</td>\n",
       "      <td>15.00</td>\n",
       "      <td>825.69</td>\n",
       "      <td>-0.191801</td>\n",
       "      <td>-1.541570</td>\n",
       "      <td>-0.789112</td>\n",
       "    </tr>\n",
       "    <tr>\n",
       "      <th>1</th>\n",
       "      <td>2224000</td>\n",
       "      <td>2340.32</td>\n",
       "      <td>39.90</td>\n",
       "      <td>2417.13</td>\n",
       "      <td>-0.152276</td>\n",
       "      <td>0.469029</td>\n",
       "      <td>0.117759</td>\n",
       "    </tr>\n",
       "    <tr>\n",
       "      <th>2</th>\n",
       "      <td>15540000</td>\n",
       "      <td>3415.81</td>\n",
       "      <td>15.30</td>\n",
       "      <td>2539.63</td>\n",
       "      <td>0.636396</td>\n",
       "      <td>-1.517346</td>\n",
       "      <td>0.187565</td>\n",
       "    </tr>\n",
       "    <tr>\n",
       "      <th>3</th>\n",
       "      <td>9600000</td>\n",
       "      <td>2588.12</td>\n",
       "      <td>19.75</td>\n",
       "      <td>1739.16</td>\n",
       "      <td>0.029440</td>\n",
       "      <td>-1.158022</td>\n",
       "      <td>-0.268577</td>\n",
       "    </tr>\n",
       "    <tr>\n",
       "      <th>4</th>\n",
       "      <td>5715000</td>\n",
       "      <td>5612.04</td>\n",
       "      <td>34.64</td>\n",
       "      <td>1577.20</td>\n",
       "      <td>2.246923</td>\n",
       "      <td>0.044300</td>\n",
       "      <td>-0.360869</td>\n",
       "    </tr>\n",
       "  </tbody>\n",
       "</table>\n",
       "</div>"
      ],
      "text/plain": [
       "      price  Distance_to_sc  travel_min_to_CBD  Distance_to_hospital  \\\n",
       "0  15720000         2286.42              15.00                825.69   \n",
       "1   2224000         2340.32              39.90               2417.13   \n",
       "2  15540000         3415.81              15.30               2539.63   \n",
       "3   9600000         2588.12              19.75               1739.16   \n",
       "4   5715000         5612.04              34.64               1577.20   \n",
       "\n",
       "   d_c_scaled  t_cbd_scaled  D_h_scaled  \n",
       "0   -0.191801     -1.541570   -0.789112  \n",
       "1   -0.152276      0.469029    0.117759  \n",
       "2    0.636396     -1.517346    0.187565  \n",
       "3    0.029440     -1.158022   -0.268577  \n",
       "4    2.246923      0.044300   -0.360869  "
      ]
     },
     "execution_count": 898,
     "metadata": {},
     "output_type": "execute_result"
    }
   ],
   "source": [
    "reshape_df['d_c_scaled'] = std_scale[:,0] \n",
    "reshape_df['t_cbd_scaled'] = std_scale[:,1]\n",
    "reshape_df['D_h_scaled'] = std_scale[:,2]\n",
    "reshape_df.head()"
   ]
  },
  {
   "cell_type": "code",
   "execution_count": 899,
   "metadata": {},
   "outputs": [
    {
     "data": {
      "text/html": [
       "<div>\n",
       "<style scoped>\n",
       "    .dataframe tbody tr th:only-of-type {\n",
       "        vertical-align: middle;\n",
       "    }\n",
       "\n",
       "    .dataframe tbody tr th {\n",
       "        vertical-align: top;\n",
       "    }\n",
       "\n",
       "    .dataframe thead th {\n",
       "        text-align: right;\n",
       "    }\n",
       "</style>\n",
       "<table border=\"1\" class=\"dataframe\">\n",
       "  <thead>\n",
       "    <tr style=\"text-align: right;\">\n",
       "      <th></th>\n",
       "      <th>price</th>\n",
       "      <th>Distance_to_sc</th>\n",
       "      <th>travel_min_to_CBD</th>\n",
       "      <th>Distance_to_hospital</th>\n",
       "      <th>d_c_scaled</th>\n",
       "      <th>t_cbd_scaled</th>\n",
       "      <th>D_h_scaled</th>\n",
       "    </tr>\n",
       "  </thead>\n",
       "  <tbody>\n",
       "    <tr>\n",
       "      <th>count</th>\n",
       "      <td>1.980000e+03</td>\n",
       "      <td>1980.000000</td>\n",
       "      <td>1980.000000</td>\n",
       "      <td>1980.000000</td>\n",
       "      <td>1.980000e+03</td>\n",
       "      <td>1.980000e+03</td>\n",
       "      <td>1.980000e+03</td>\n",
       "    </tr>\n",
       "    <tr>\n",
       "      <th>mean</th>\n",
       "      <td>9.174688e+06</td>\n",
       "      <td>2547.974045</td>\n",
       "      <td>34.091369</td>\n",
       "      <td>2210.477732</td>\n",
       "      <td>5.416543e-17</td>\n",
       "      <td>2.389222e-16</td>\n",
       "      <td>-1.230672e-16</td>\n",
       "    </tr>\n",
       "    <tr>\n",
       "      <th>std</th>\n",
       "      <td>5.845341e+06</td>\n",
       "      <td>1364.016442</td>\n",
       "      <td>12.387497</td>\n",
       "      <td>1755.311611</td>\n",
       "      <td>1.000253e+00</td>\n",
       "      <td>1.000253e+00</td>\n",
       "      <td>1.000253e+00</td>\n",
       "    </tr>\n",
       "    <tr>\n",
       "      <th>min</th>\n",
       "      <td>1.644500e+06</td>\n",
       "      <td>110.710000</td>\n",
       "      <td>4.510000</td>\n",
       "      <td>69.150000</td>\n",
       "      <td>-1.787280e+00</td>\n",
       "      <td>-2.388605e+00</td>\n",
       "      <td>-1.220221e+00</td>\n",
       "    </tr>\n",
       "    <tr>\n",
       "      <th>25%</th>\n",
       "      <td>5.333000e+06</td>\n",
       "      <td>1474.455000</td>\n",
       "      <td>23.850000</td>\n",
       "      <td>1035.782500</td>\n",
       "      <td>-7.872268e-01</td>\n",
       "      <td>-8.269593e-01</td>\n",
       "      <td>-6.693922e-01</td>\n",
       "    </tr>\n",
       "    <tr>\n",
       "      <th>50%</th>\n",
       "      <td>7.601000e+06</td>\n",
       "      <td>2273.380000</td>\n",
       "      <td>34.640000</td>\n",
       "      <td>1696.190000</td>\n",
       "      <td>-2.013637e-01</td>\n",
       "      <td>4.430031e-02</td>\n",
       "      <td>-2.930634e-01</td>\n",
       "    </tr>\n",
       "    <tr>\n",
       "      <th>75%</th>\n",
       "      <td>1.120950e+07</td>\n",
       "      <td>3456.815000</td>\n",
       "      <td>42.350000</td>\n",
       "      <td>2781.722500</td>\n",
       "      <td>6.664660e-01</td>\n",
       "      <td>6.668593e-01</td>\n",
       "      <td>3.255200e-01</td>\n",
       "    </tr>\n",
       "    <tr>\n",
       "      <th>max</th>\n",
       "      <td>4.624000e+07</td>\n",
       "      <td>5958.830000</td>\n",
       "      <td>61.000000</td>\n",
       "      <td>9360.010000</td>\n",
       "      <td>2.501229e+00</td>\n",
       "      <td>2.172790e+00</td>\n",
       "      <td>4.074113e+00</td>\n",
       "    </tr>\n",
       "  </tbody>\n",
       "</table>\n",
       "</div>"
      ],
      "text/plain": [
       "              price  Distance_to_sc  travel_min_to_CBD  Distance_to_hospital  \\\n",
       "count  1.980000e+03     1980.000000        1980.000000           1980.000000   \n",
       "mean   9.174688e+06     2547.974045          34.091369           2210.477732   \n",
       "std    5.845341e+06     1364.016442          12.387497           1755.311611   \n",
       "min    1.644500e+06      110.710000           4.510000             69.150000   \n",
       "25%    5.333000e+06     1474.455000          23.850000           1035.782500   \n",
       "50%    7.601000e+06     2273.380000          34.640000           1696.190000   \n",
       "75%    1.120950e+07     3456.815000          42.350000           2781.722500   \n",
       "max    4.624000e+07     5958.830000          61.000000           9360.010000   \n",
       "\n",
       "         d_c_scaled  t_cbd_scaled    D_h_scaled  \n",
       "count  1.980000e+03  1.980000e+03  1.980000e+03  \n",
       "mean   5.416543e-17  2.389222e-16 -1.230672e-16  \n",
       "std    1.000253e+00  1.000253e+00  1.000253e+00  \n",
       "min   -1.787280e+00 -2.388605e+00 -1.220221e+00  \n",
       "25%   -7.872268e-01 -8.269593e-01 -6.693922e-01  \n",
       "50%   -2.013637e-01  4.430031e-02 -2.930634e-01  \n",
       "75%    6.664660e-01  6.668593e-01  3.255200e-01  \n",
       "max    2.501229e+00  2.172790e+00  4.074113e+00  "
      ]
     },
     "execution_count": 899,
     "metadata": {},
     "output_type": "execute_result"
    }
   ],
   "source": [
    "reshape_df.describe()"
   ]
  },
  {
   "cell_type": "code",
   "execution_count": 900,
   "metadata": {},
   "outputs": [
    {
     "data": {
      "text/plain": [
       "<matplotlib.legend.Legend at 0x7f81717f8e80>"
      ]
     },
     "execution_count": 900,
     "metadata": {},
     "output_type": "execute_result"
    },
    {
     "data": {
      "image/png": "[encoded data removed]",
      "text/plain": [
       "<Figure size 432x288 with 1 Axes>"
      ]
     },
     "metadata": {
      "needs_background": "light"
     },
     "output_type": "display_data"
    }
   ],
   "source": [
    "%matplotlib inline\n",
    "reshape_df[\"Distance_to_sc\"].plot().legend(), \n",
    "reshape_df[\"travel_min_to_CBD\"].plot().legend(), \n",
    "reshape_df[\"Distance_to_hospital\"].plot().legend()"
   ]
  },
  {
   "cell_type": "code",
   "execution_count": 901,
   "metadata": {},
   "outputs": [
    {
     "data": {
      "text/plain": [
       "<matplotlib.legend.Legend at 0x7f8173a84b80>"
      ]
     },
     "execution_count": 901,
     "metadata": {},
     "output_type": "execute_result"
    },
    {
     "data": {
      "image/png": "[encoded data removed]",
      "text/plain": [
       "<Figure size 432x288 with 1 Axes>"
      ]
     },
     "metadata": {
      "needs_background": "light"
     },
     "output_type": "display_data"
    }
   ],
   "source": [
    "%matplotlib inline\n",
    "reshape_df[\"d_c_scaled\"].plot().legend(), \n",
    "reshape_df[\"t_cbd_scaled\"].plot().legend(), \n",
    "reshape_df[\"D_h_scaled\"].plot().legend()"
   ]
  },
  {
   "cell_type": "code",
   "execution_count": 902,
   "metadata": {},
   "outputs": [
    {
     "data": {
      "text/plain": [
       "(<matplotlib.legend.Legend at 0x7f816bc0ef10>,\n",
       " <matplotlib.legend.Legend at 0x7f8173e50070>)"
      ]
     },
     "execution_count": 902,
     "metadata": {},
     "output_type": "execute_result"
    },
    {
     "data": {
      "image/png": "[encoded data removed]",
      "text/plain": [
       "<Figure size 432x288 with 1 Axes>"
      ]
     },
     "metadata": {
      "needs_background": "light"
     },
     "output_type": "display_data"
    }
   ],
   "source": [
    "reshape_df[\"Distance_to_sc\"].plot().legend(), reshape_df[\"d_c_scaled\"].plot().legend()"
   ]
  },
  {
   "cell_type": "code",
   "execution_count": 903,
   "metadata": {},
   "outputs": [
    {
     "data": {
      "text/plain": [
       "(<matplotlib.legend.Legend at 0x7f819312c790>,\n",
       " <matplotlib.legend.Legend at 0x7f8173e84490>)"
      ]
     },
     "execution_count": 903,
     "metadata": {},
     "output_type": "execute_result"
    },
    {
     "data": {
      "image/png": "[encoded data removed]",
      "text/plain": [
       "<Figure size 432x288 with 1 Axes>"
      ]
     },
     "metadata": {
      "needs_background": "light"
     },
     "output_type": "display_data"
    }
   ],
   "source": [
    "reshape_df[\"travel_min_to_CBD\"].plot().legend(), reshape_df[\"t_cbd_scaled\"].plot().legend()"
   ]
  },
  {
   "cell_type": "code",
   "execution_count": 904,
   "metadata": {
    "scrolled": true
   },
   "outputs": [
    {
     "data": {
      "text/plain": [
       "(<matplotlib.legend.Legend at 0x7f819d2d7370>,\n",
       " <matplotlib.legend.Legend at 0x7f816b4e8ac0>)"
      ]
     },
     "execution_count": 904,
     "metadata": {},
     "output_type": "execute_result"
    },
    {
     "data": {
      "image/png": "[encoded data removed]",
      "text/plain": [
       "<Figure size 432x288 with 1 Axes>"
      ]
     },
     "metadata": {
      "needs_background": "light"
     },
     "output_type": "display_data"
    }
   ],
   "source": [
    "reshape_df[\"Distance_to_hospital\"].plot().legend(), reshape_df[\"D_h_scaled\"].plot().legend()"
   ]
  },
  {
   "cell_type": "markdown",
   "metadata": {},
   "source": [
    "## Minmax normalization\n",
    "\n",
    "Normalizing will ensure that a convergence problem does not have a massive variance, making optimization feasible."
   ]
  },
  {
   "cell_type": "code",
   "execution_count": 929,
   "metadata": {},
   "outputs": [
    {
     "data": {
      "text/plain": [
       "array([[0.31562602, 0.3720358 , 0.18569658, 0.08142841],\n",
       "       [0.01299458, 0.38125244, 0.62648256, 0.25271934],\n",
       "       [0.31158973, 0.56515598, 0.19100726, 0.26590434],\n",
       "       [0.17839244, 0.42362503, 0.26978226, 0.17974762],\n",
       "       [0.09127603, 0.9407006 , 0.53336874, 0.16231544]])"
      ]
     },
     "execution_count": 929,
     "metadata": {},
     "output_type": "execute_result"
    }
   ],
   "source": [
    "minmax_scale = preprocessing.MinMaxScaler().fit_transform(reshape_df[['price','Distance_to_sc','travel_min_to_CBD', 'Distance_to_hospital']])\n",
    "minmax_scale[0:5]\n"
   ]
  },
  {
   "cell_type": "code",
   "execution_count": 931,
   "metadata": {},
   "outputs": [
    {
     "data": {
      "text/html": [
       "<div>\n",
       "<style scoped>\n",
       "    .dataframe tbody tr th:only-of-type {\n",
       "        vertical-align: middle;\n",
       "    }\n",
       "\n",
       "    .dataframe tbody tr th {\n",
       "        vertical-align: top;\n",
       "    }\n",
       "\n",
       "    .dataframe thead th {\n",
       "        text-align: right;\n",
       "    }\n",
       "</style>\n",
       "<table border=\"1\" class=\"dataframe\">\n",
       "  <thead>\n",
       "    <tr style=\"text-align: right;\">\n",
       "      <th></th>\n",
       "      <th>price</th>\n",
       "      <th>Distance_to_sc</th>\n",
       "      <th>travel_min_to_CBD</th>\n",
       "      <th>Distance_to_hospital</th>\n",
       "      <th>d_c_scaled</th>\n",
       "      <th>t_cbd_scaled</th>\n",
       "      <th>D_h_scaled</th>\n",
       "      <th>d_c_minmax</th>\n",
       "      <th>t_cbd_minmax</th>\n",
       "      <th>D_h_minmax</th>\n",
       "      <th>tran_sc</th>\n",
       "      <th>tcbd</th>\n",
       "      <th>t_hospital</th>\n",
       "      <th>price_minmax</th>\n",
       "    </tr>\n",
       "  </thead>\n",
       "  <tbody>\n",
       "    <tr>\n",
       "      <th>0</th>\n",
       "      <td>15720000</td>\n",
       "      <td>2286.42</td>\n",
       "      <td>15.00</td>\n",
       "      <td>825.69</td>\n",
       "      <td>-0.191801</td>\n",
       "      <td>-1.541570</td>\n",
       "      <td>-0.789112</td>\n",
       "      <td>0.315626</td>\n",
       "      <td>0.372036</td>\n",
       "      <td>0.185697</td>\n",
       "      <td>54.4322</td>\n",
       "      <td>10.726</td>\n",
       "      <td>11.7387</td>\n",
       "      <td>0.185697</td>\n",
       "    </tr>\n",
       "    <tr>\n",
       "      <th>1</th>\n",
       "      <td>2224000</td>\n",
       "      <td>2340.32</td>\n",
       "      <td>39.90</td>\n",
       "      <td>2417.13</td>\n",
       "      <td>-0.152276</td>\n",
       "      <td>0.469029</td>\n",
       "      <td>0.117759</td>\n",
       "      <td>0.012995</td>\n",
       "      <td>0.381252</td>\n",
       "      <td>0.626483</td>\n",
       "      <td>54.9728</td>\n",
       "      <td>26.3504</td>\n",
       "      <td>15.0066</td>\n",
       "      <td>0.626483</td>\n",
       "    </tr>\n",
       "    <tr>\n",
       "      <th>2</th>\n",
       "      <td>15540000</td>\n",
       "      <td>3415.81</td>\n",
       "      <td>15.30</td>\n",
       "      <td>2539.63</td>\n",
       "      <td>0.636396</td>\n",
       "      <td>-1.517346</td>\n",
       "      <td>0.187565</td>\n",
       "      <td>0.311590</td>\n",
       "      <td>0.565156</td>\n",
       "      <td>0.191007</td>\n",
       "      <td>64.5009</td>\n",
       "      <td>10.9296</td>\n",
       "      <td>15.1704</td>\n",
       "      <td>0.191007</td>\n",
       "    </tr>\n",
       "    <tr>\n",
       "      <th>3</th>\n",
       "      <td>9600000</td>\n",
       "      <td>2588.12</td>\n",
       "      <td>19.75</td>\n",
       "      <td>1739.16</td>\n",
       "      <td>0.029440</td>\n",
       "      <td>-1.158022</td>\n",
       "      <td>-0.268577</td>\n",
       "      <td>0.178392</td>\n",
       "      <td>0.423625</td>\n",
       "      <td>0.269782</td>\n",
       "      <td>57.3678</td>\n",
       "      <td>13.8899</td>\n",
       "      <td>13.9474</td>\n",
       "      <td>0.269782</td>\n",
       "    </tr>\n",
       "    <tr>\n",
       "      <th>4</th>\n",
       "      <td>5715000</td>\n",
       "      <td>5612.04</td>\n",
       "      <td>34.64</td>\n",
       "      <td>1577.20</td>\n",
       "      <td>2.246923</td>\n",
       "      <td>0.044300</td>\n",
       "      <td>-0.360869</td>\n",
       "      <td>0.091276</td>\n",
       "      <td>0.940701</td>\n",
       "      <td>0.533369</td>\n",
       "      <td>79.4526</td>\n",
       "      <td>23.2091</td>\n",
       "      <td>13.643</td>\n",
       "      <td>0.533369</td>\n",
       "    </tr>\n",
       "  </tbody>\n",
       "</table>\n",
       "</div>"
      ],
      "text/plain": [
       "      price  Distance_to_sc  travel_min_to_CBD  Distance_to_hospital  \\\n",
       "0  15720000         2286.42              15.00                825.69   \n",
       "1   2224000         2340.32              39.90               2417.13   \n",
       "2  15540000         3415.81              15.30               2539.63   \n",
       "3   9600000         2588.12              19.75               1739.16   \n",
       "4   5715000         5612.04              34.64               1577.20   \n",
       "\n",
       "   d_c_scaled  t_cbd_scaled  D_h_scaled  d_c_minmax  t_cbd_minmax  D_h_minmax  \\\n",
       "0   -0.191801     -1.541570   -0.789112    0.315626      0.372036    0.185697   \n",
       "1   -0.152276      0.469029    0.117759    0.012995      0.381252    0.626483   \n",
       "2    0.636396     -1.517346    0.187565    0.311590      0.565156    0.191007   \n",
       "3    0.029440     -1.158022   -0.268577    0.178392      0.423625    0.269782   \n",
       "4    2.246923      0.044300   -0.360869    0.091276      0.940701    0.533369   \n",
       "\n",
       "   tran_sc     tcbd t_hospital  price_minmax  \n",
       "0  54.4322   10.726    11.7387      0.185697  \n",
       "1  54.9728  26.3504    15.0066      0.626483  \n",
       "2  64.5009  10.9296    15.1704      0.191007  \n",
       "3  57.3678  13.8899    13.9474      0.269782  \n",
       "4  79.4526  23.2091     13.643      0.533369  "
      ]
     },
     "execution_count": 931,
     "metadata": {},
     "output_type": "execute_result"
    }
   ],
   "source": [
    "reshape_df['price_minmax'] = minmax_scale[:,2]\n",
    "reshape_df['d_c_minmax'] = minmax_scale[:,0] \n",
    "reshape_df['t_cbd_minmax'] = minmax_scale[:,1]\n",
    "reshape_df['D_h_minmax'] = minmax_scale[:,2]\n",
    "reshape_df.head()"
   ]
  },
  {
   "cell_type": "code",
   "execution_count": 932,
   "metadata": {
    "scrolled": true
   },
   "outputs": [
    {
     "data": {
      "text/plain": [
       "<matplotlib.legend.Legend at 0x7f816fec9370>"
      ]
     },
     "execution_count": 932,
     "metadata": {},
     "output_type": "execute_result"
    },
    {
     "data": {
      "image/png": "[encoded data removed]",
      "text/plain": [
       "<Figure size 432x288 with 1 Axes>"
      ]
     },
     "metadata": {
      "needs_background": "light"
     },
     "output_type": "display_data"
    }
   ],
   "source": [
    "%matplotlib inline\n",
    "reshape_df[\"d_c_minmax\"].plot().legend(), \n",
    "reshape_df[\"t_cbd_minmax\"].plot().legend(), \n",
    "reshape_df[\"D_h_minmax\"].plot().legend(),\n",
    "reshape_df[\"price_minmax\"].plot().legend()"
   ]
  },
  {
   "cell_type": "markdown",
   "metadata": {},
   "source": [
    "These attributes need to be scaled since the mean and variance seem to be very different for each. Each seems to have some outliers. The minimax method of normalization is very susceptible to outliers. Therefore, the StandardScaler method of normalization is a better way to go. \n",
    "\n",
    "\n",
    "We want to see the effect on the dependent variable with a cange in the independent variables. Therefore, we plot each variable against price and see how a couple of transformation methods affect the relationship."
   ]
  },
  {
   "cell_type": "markdown",
   "metadata": {},
   "source": [
    "# Transformations for `Distance_to_sc`"
   ]
  },
  {
   "cell_type": "code",
   "execution_count": 908,
   "metadata": {},
   "outputs": [
    {
     "data": {
      "text/plain": [
       "<matplotlib.collections.PathCollection at 0x7f819a36ea00>"
      ]
     },
     "execution_count": 908,
     "metadata": {},
     "output_type": "execute_result"
    },
    {
     "data": {
      "image/png": "[encoded data removed]",
      "text/plain": [
       "<Figure size 432x288 with 1 Axes>"
      ]
     },
     "metadata": {
      "needs_background": "light"
     },
     "output_type": "display_data"
    }
   ],
   "source": [
    "plt.scatter(reshape_df[\"Distance_to_sc\"], reshape_df[\"price\"])"
   ]
  },
  {
   "cell_type": "markdown",
   "metadata": {},
   "source": [
    "### log Transformations"
   ]
  },
  {
   "cell_type": "code",
   "execution_count": 933,
   "metadata": {},
   "outputs": [],
   "source": [
    "reshape_df['tran_sc'] = None\n",
    "i = 0\n",
    "for row in reshape_df.iterrows():\n",
    "    reshape_df['tran_sc'].at[i] = math.log(reshape_df[\"Distance_to_sc\"][i])\n",
    "    i += 1\n",
    "    \n",
    "reshape_df['tran_price'] = None\n",
    "i = 0\n",
    "for row in reshape_df.iterrows():\n",
    "    reshape_df['tran_price'].at[i] = math.log(reshape_df[\"price\"][i])\n",
    "    i += 1"
   ]
  },
  {
   "cell_type": "code",
   "execution_count": 934,
   "metadata": {},
   "outputs": [
    {
     "data": {
      "text/plain": [
       "<matplotlib.collections.PathCollection at 0x7f816ce57f70>"
      ]
     },
     "execution_count": 934,
     "metadata": {},
     "output_type": "execute_result"
    },
    {
     "data": {
      "image/png": "[encoded data removed]",
      "text/plain": [
       "<Figure size 432x288 with 1 Axes>"
      ]
     },
     "metadata": {
      "needs_background": "light"
     },
     "output_type": "display_data"
    }
   ],
   "source": [
    "plt.scatter(reshape_df[\"tran_sc\"], reshape_df[\"tran_price\"]) "
   ]
  },
  {
   "cell_type": "markdown",
   "metadata": {},
   "source": [
    "### Power Transformation"
   ]
  },
  {
   "cell_type": "code",
   "execution_count": 946,
   "metadata": {},
   "outputs": [],
   "source": [
    "reshape_df['tran_sc'] = None\n",
    "i = 0\n",
    "for row in reshape_df.iterrows():\n",
    "    reshape_df['tran_sc'].at[i] = math.pow(reshape_df[\"Distance_to_sc\"][i],2)\n",
    "    i += 1   \n",
    "    \n",
    "reshape_df['tran_price'] = None\n",
    "i = 0\n",
    "for row in reshape_df.iterrows():\n",
    "    reshape_df['tran_price'].at[i] = math.pow(reshape_df[\"price\"][i],2)\n",
    "    i += 1   "
   ]
  },
  {
   "cell_type": "code",
   "execution_count": 947,
   "metadata": {},
   "outputs": [
    {
     "data": {
      "text/plain": [
       "<matplotlib.collections.PathCollection at 0x7f8173720e20>"
      ]
     },
     "execution_count": 947,
     "metadata": {},
     "output_type": "execute_result"
    },
    {
     "data": {
      "image/png": "[encoded data removed]",
      "text/plain": [
       "<Figure size 432x288 with 1 Axes>"
      ]
     },
     "metadata": {
      "needs_background": "light"
     },
     "output_type": "display_data"
    }
   ],
   "source": [
    "plt.scatter(reshape_df[\"tran_sc\"], reshape_df[\"tran_price\"]) "
   ]
  },
  {
   "cell_type": "markdown",
   "metadata": {},
   "source": [
    "### BOX-COX Transformation"
   ]
  },
  {
   "cell_type": "code",
   "execution_count": 948,
   "metadata": {},
   "outputs": [],
   "source": [
    "from scipy import stats\n",
    "\n",
    "reshape_df['tran_sc'] = None\n",
    "i = 0\n",
    "for row in reshape_df.iterrows():\n",
    "    fitted_data, fitted_lambda = stats.boxcox(reshape_df[\"Distance_to_sc\"]) \n",
    "    reshape_df['tran_sc'].at[i] = fitted_data[i]\n",
    "    i += 1   \n",
    "\n",
    "reshape_df['tran_price'] = None\n",
    "i = 0\n",
    "for row in reshape_df.iterrows():\n",
    "    fitted_data, fitted_lambda = stats.boxcox(reshape_df[\"price\"]) \n",
    "    reshape_df['tran_price'].at[i] = fitted_data[i]\n",
    "    i += 1  "
   ]
  },
  {
   "cell_type": "code",
   "execution_count": 949,
   "metadata": {},
   "outputs": [
    {
     "data": {
      "text/plain": [
       "<matplotlib.collections.PathCollection at 0x7f816cb062b0>"
      ]
     },
     "execution_count": 949,
     "metadata": {},
     "output_type": "execute_result"
    },
    {
     "data": {
      "image/png": "[encoded data removed]",
      "text/plain": [
       "<Figure size 432x288 with 1 Axes>"
      ]
     },
     "metadata": {
      "needs_background": "light"
     },
     "output_type": "display_data"
    }
   ],
   "source": [
    "plt.scatter(reshape_df[\"tran_sc\"], reshape_df[\"tran_price\"]) "
   ]
  },
  {
   "cell_type": "markdown",
   "metadata": {},
   "source": [
    "# Transformations for `travel_min_to_CBD`"
   ]
  },
  {
   "cell_type": "code",
   "execution_count": 915,
   "metadata": {},
   "outputs": [
    {
     "data": {
      "text/plain": [
       "<matplotlib.collections.PathCollection at 0x7f8164999730>"
      ]
     },
     "execution_count": 915,
     "metadata": {},
     "output_type": "execute_result"
    },
    {
     "data": {
      "image/png": "[encoded data removed]",
      "text/plain": [
       "<Figure size 432x288 with 1 Axes>"
      ]
     },
     "metadata": {
      "needs_background": "light"
     },
     "output_type": "display_data"
    }
   ],
   "source": [
    "plt.scatter(reshape_df[\"travel_min_to_CBD\"], reshape_df[\"price\"])"
   ]
  },
  {
   "cell_type": "markdown",
   "metadata": {},
   "source": [
    "### Log Transformation"
   ]
  },
  {
   "cell_type": "code",
   "execution_count": 950,
   "metadata": {},
   "outputs": [],
   "source": [
    "reshape_df['tcbd'] = None\n",
    "i = 0\n",
    "for row in reshape_df.iterrows():\n",
    "    reshape_df['tcbd'].at[i] = math.log(reshape_df[\"travel_min_to_CBD\"][i])\n",
    "    i += 1\n",
    "    \n",
    "reshape_df['tran_price'] = None\n",
    "i = 0\n",
    "for row in reshape_df.iterrows():\n",
    "    reshape_df['tran_price'].at[i] = math.log(reshape_df[\"price\"][i])\n",
    "    i += 1"
   ]
  },
  {
   "cell_type": "code",
   "execution_count": 951,
   "metadata": {},
   "outputs": [
    {
     "data": {
      "text/plain": [
       "<matplotlib.collections.PathCollection at 0x7f816c8eb550>"
      ]
     },
     "execution_count": 951,
     "metadata": {},
     "output_type": "execute_result"
    },
    {
     "data": {
      "image/png": "[encoded data removed]",
      "text/plain": [
       "<Figure size 432x288 with 1 Axes>"
      ]
     },
     "metadata": {
      "needs_background": "light"
     },
     "output_type": "display_data"
    }
   ],
   "source": [
    "plt.scatter(reshape_df[\"tcbd\"], reshape_df[\"tran_price\"])"
   ]
  },
  {
   "cell_type": "markdown",
   "metadata": {},
   "source": [
    "### Power Transformation"
   ]
  },
  {
   "cell_type": "code",
   "execution_count": 952,
   "metadata": {},
   "outputs": [],
   "source": [
    "reshape_df['tcbd'] = None\n",
    "i = 0\n",
    "for row in reshape_df.iterrows():\n",
    "    reshape_df['tcbd'].at[i] = math.pow(reshape_df[\"travel_min_to_CBD\"][i],2)\n",
    "    i += 1 \n",
    "    \n",
    "reshape_df['tran_price'] = None\n",
    "i = 0\n",
    "for row in reshape_df.iterrows():\n",
    "    reshape_df['tran_price'].at[i] = math.pow(reshape_df[\"price\"][i],2)\n",
    "    i += 1 "
   ]
  },
  {
   "cell_type": "code",
   "execution_count": 954,
   "metadata": {
    "scrolled": true
   },
   "outputs": [
    {
     "data": {
      "text/plain": [
       "<matplotlib.collections.PathCollection at 0x7f816c675df0>"
      ]
     },
     "execution_count": 954,
     "metadata": {},
     "output_type": "execute_result"
    },
    {
     "data": {
      "image/png": "[encoded data removed]",
      "text/plain": [
       "<Figure size 432x288 with 1 Axes>"
      ]
     },
     "metadata": {
      "needs_background": "light"
     },
     "output_type": "display_data"
    }
   ],
   "source": [
    "plt.scatter(reshape_df[\"tcbd\"], reshape_df[\"tran_price\"])"
   ]
  },
  {
   "cell_type": "markdown",
   "metadata": {},
   "source": [
    "### Box-cox Transformation"
   ]
  },
  {
   "cell_type": "code",
   "execution_count": 955,
   "metadata": {},
   "outputs": [],
   "source": [
    "reshape_df['tcbd'] = None\n",
    "i = 0\n",
    "for row in reshape_df.iterrows():\n",
    "    fitted_data, fitted_lambda = stats.boxcox(reshape_df[\"travel_min_to_CBD\"]) \n",
    "    reshape_df['tcbd'].at[i] = fitted_data[i]\n",
    "    i += 1  \n",
    "    \n",
    "reshape_df['tran_price'] = None\n",
    "i = 0\n",
    "for row in reshape_df.iterrows():\n",
    "    fitted_data, fitted_lambda = stats.boxcox(reshape_df[\"price\"]) \n",
    "    reshape_df['tran_price'].at[i] = fitted_data[i]\n",
    "    i += 1  "
   ]
  },
  {
   "cell_type": "code",
   "execution_count": 956,
   "metadata": {},
   "outputs": [
    {
     "data": {
      "text/plain": [
       "<matplotlib.collections.PathCollection at 0x7f816c4fdbe0>"
      ]
     },
     "execution_count": 956,
     "metadata": {},
     "output_type": "execute_result"
    },
    {
     "data": {
      "image/png": "[encoded data removed]",
      "text/plain": [
       "<Figure size 432x288 with 1 Axes>"
      ]
     },
     "metadata": {
      "needs_background": "light"
     },
     "output_type": "display_data"
    }
   ],
   "source": [
    "plt.scatter(reshape_df[\"tcbd\"], reshape_df[\"price\"])"
   ]
  },
  {
   "cell_type": "markdown",
   "metadata": {},
   "source": [
    "# Transformations for `Distance_to_hospital`"
   ]
  },
  {
   "cell_type": "code",
   "execution_count": 922,
   "metadata": {},
   "outputs": [
    {
     "data": {
      "text/plain": [
       "<matplotlib.collections.PathCollection at 0x7f816ed52250>"
      ]
     },
     "execution_count": 922,
     "metadata": {},
     "output_type": "execute_result"
    },
    {
     "data": {
      "image/png": "[encoded data removed]",
      "text/plain": [
       "<Figure size 432x288 with 1 Axes>"
      ]
     },
     "metadata": {
      "needs_background": "light"
     },
     "output_type": "display_data"
    }
   ],
   "source": [
    "plt.scatter(reshape_df[\"Distance_to_hospital\"], reshape_df[\"price\"])"
   ]
  },
  {
   "cell_type": "markdown",
   "metadata": {},
   "source": [
    "### log Transformation"
   ]
  },
  {
   "cell_type": "code",
   "execution_count": 957,
   "metadata": {},
   "outputs": [],
   "source": [
    "reshape_df['t_hospital'] = None\n",
    "i = 0\n",
    "for row in reshape_df.iterrows():\n",
    "    reshape_df['t_hospital'].at[i] = math.log(reshape_df[\"Distance_to_hospital\"][i])\n",
    "    i += 1\n",
    "    \n",
    "reshape_df['tran_price'] = None\n",
    "i = 0\n",
    "for row in reshape_df.iterrows():\n",
    "    reshape_df['tran_price'].at[i] = math.log(reshape_df[\"price\"][i])\n",
    "    i += 1"
   ]
  },
  {
   "cell_type": "code",
   "execution_count": 958,
   "metadata": {},
   "outputs": [
    {
     "data": {
      "text/plain": [
       "<matplotlib.collections.PathCollection at 0x7f816d059160>"
      ]
     },
     "execution_count": 958,
     "metadata": {},
     "output_type": "execute_result"
    },
    {
     "data": {
      "image/png": "[encoded data removed]",
      "text/plain": [
       "<Figure size 432x288 with 1 Axes>"
      ]
     },
     "metadata": {
      "needs_background": "light"
     },
     "output_type": "display_data"
    }
   ],
   "source": [
    "plt.scatter(reshape_df[\"t_hospital\"], reshape_df[\"tran_price\"])"
   ]
  },
  {
   "cell_type": "markdown",
   "metadata": {},
   "source": [
    "### Power Transformation"
   ]
  },
  {
   "cell_type": "code",
   "execution_count": 959,
   "metadata": {},
   "outputs": [],
   "source": [
    "reshape_df['t_hospital'] = None\n",
    "i = 0\n",
    "for row in reshape_df.iterrows():\n",
    "    reshape_df['t_hospital'].at[i] = math.pow(reshape_df[\"Distance_to_hospital\"][i],2)\n",
    "    i += 1 \n",
    "    \n",
    "reshape_df['tran_price'] = None\n",
    "i = 0\n",
    "for row in reshape_df.iterrows():\n",
    "    reshape_df['tran_price'].at[i] = math.pow(reshape_df[\"price\"][i],2)\n",
    "    i += 1"
   ]
  },
  {
   "cell_type": "code",
   "execution_count": 960,
   "metadata": {},
   "outputs": [
    {
     "data": {
      "text/plain": [
       "<matplotlib.collections.PathCollection at 0x7f816d1bc280>"
      ]
     },
     "execution_count": 960,
     "metadata": {},
     "output_type": "execute_result"
    },
    {
     "data": {
      "image/png": "[encoded data removed]",
      "text/plain": [
       "<Figure size 432x288 with 1 Axes>"
      ]
     },
     "metadata": {
      "needs_background": "light"
     },
     "output_type": "display_data"
    }
   ],
   "source": [
    "plt.scatter(reshape_df[\"t_hospital\"], reshape_df[\"tran_price\"])"
   ]
  },
  {
   "cell_type": "markdown",
   "metadata": {},
   "source": [
    "### Box-COX Transformation"
   ]
  },
  {
   "cell_type": "code",
   "execution_count": 961,
   "metadata": {},
   "outputs": [],
   "source": [
    "reshape_df['t_hospital'] = None\n",
    "i = 0\n",
    "for row in reshape_df.iterrows():\n",
    "    fitted_data, fitted_lambda = stats.boxcox(reshape_df[\"Distance_to_hospital\"]) \n",
    "    reshape_df['t_hospital'].at[i] = fitted_data[i]\n",
    "    i += 1  \n",
    "    \n",
    "reshape_df['tran_price'] = None\n",
    "i = 0\n",
    "for row in reshape_df.iterrows():\n",
    "    fitted_data, fitted_lambda = stats.boxcox(reshape_df[\"price\"]) \n",
    "    reshape_df['tran_price'].at[i] = fitted_data[i]\n",
    "    i += 1 "
   ]
  },
  {
   "cell_type": "code",
   "execution_count": 962,
   "metadata": {},
   "outputs": [
    {
     "data": {
      "text/plain": [
       "<matplotlib.collections.PathCollection at 0x7f816c8ab670>"
      ]
     },
     "execution_count": 962,
     "metadata": {},
     "output_type": "execute_result"
    },
    {
     "data": {
      "image/png": "[encoded data removed]",
      "text/plain": [
       "<Figure size 432x288 with 1 Axes>"
      ]
     },
     "metadata": {
      "needs_background": "light"
     },
     "output_type": "display_data"
    }
   ],
   "source": [
    "plt.scatter(reshape_df[\"t_hospital\"], reshape_df[\"tran_price\"])"
   ]
  },
  {
   "cell_type": "markdown",
   "metadata": {},
   "source": [
    "- These attributes seem to be right or left skewed.As attrivutes are normally distribuated,Therefore, on observing the above output, we can see that in most cases we need to do transformation like `log`,`power` or `Box-Cox`.\n",
    "- But after appling this transformation we can stronglly suggest thta, using `Box-cox` transformation is best for predictiong class variable when we fit linear regression model."
   ]
  },
  {
   "cell_type": "markdown",
   "metadata": {},
   "source": [
    "## Referances\n",
    "\n",
    "- https://towardsdatascience.com/how-and-why-to-standardize-your-data-996926c2c832\n",
    "- https://www.geeksforgeeks.org/box-cox-transformation-using-python/\n",
    "- https://medium.com/@rrfd/standardize-or-normalize-examples-in-python-e3f174b65dfc"
   ]
  },
  {
   "cell_type": "code",
   "execution_count": null,
   "metadata": {},
   "outputs": [],
   "source": []
  }
 ],
 "metadata": {
  "kernelspec": {
   "display_name": "Python 3",
   "language": "python",
   "name": "python3"
  },
  "language_info": {
   "codemirror_mode": {
    "name": "ipython",
    "version": 3
   },
   "file_extension": ".py",
   "mimetype": "text/x-python",
   "name": "python",
   "nbconvert_exporter": "python",
   "pygments_lexer": "ipython3",
   "version": "3.8.5"
  }
 },
 "nbformat": 4,
 "nbformat_minor": 4
}
